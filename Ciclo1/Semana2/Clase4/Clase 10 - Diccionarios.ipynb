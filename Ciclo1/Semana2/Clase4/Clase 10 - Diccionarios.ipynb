{
 "cells": [
  {
   "cell_type": "markdown",
   "metadata": {},
   "source": [
    "# Diccionarios \n",
    "\n",
    "En Python existen diferentes estructuras de datos las cuales nos permiten almacenar y gestionar diferentes tipos de datos, por ejemplo tenemos a las listas, las tuplas y a los diccionarios.\n",
    "\n",
    "Hoy vamos a hablar de los diccionarios, la estructura característica que posee Python\n",
    "\n",
    "El diccionario, define una relación uno a uno entre una clave y su valor.\n",
    "\n",
    "Los diccionarios en Python, al igual que las listas y las tuplas, nos permiten almacenar diferentes tipos de datos: Strings, enteros, flotantes, booleanos, tuplas, listas e inclusive otros diccionarios.\n",
    "\n",
    "Los diccionarios son mutables, es decir, es posible modificar su longitud, podemos agregar o quitar elementos de él; de igual forma todos los valores almacenados en el diccionario pueden ser modificados.\n",
    "\n",
    "# Definición y almacenamiento de datos"
   ]
  },
  {
   "cell_type": "code",
   "execution_count": 25,
   "metadata": {},
   "outputs": [],
   "source": [
    "diccionario = {}"
   ]
  },
  {
   "cell_type": "code",
   "execution_count": 26,
   "metadata": {},
   "outputs": [
    {
     "name": "stdout",
     "output_type": "stream",
     "text": [
      "{}\n"
     ]
    }
   ],
   "source": [
    "print(diccionario)"
   ]
  },
  {
   "cell_type": "code",
   "execution_count": 27,
   "metadata": {},
   "outputs": [],
   "source": [
    "diccionario = dict()"
   ]
  },
  {
   "cell_type": "code",
   "execution_count": 28,
   "metadata": {},
   "outputs": [
    {
     "data": {
      "text/plain": [
       "{}"
      ]
     },
     "execution_count": 28,
     "metadata": {},
     "output_type": "execute_result"
    }
   ],
   "source": [
    "diccionario"
   ]
  },
  {
   "cell_type": "markdown",
   "metadata": {},
   "source": [
    "Para definir un diccionario haremos uso de un juego de llaves o de la función dict(). De ambas formas es correcto.\n",
    "\n",
    "Para poder almacenar algún valor seguiremos la siguiente estructura, nuestra llave, dos puntos y el valor el cual queremos asociar.\n",
    "\n",
    "Por ejemplo, el *string* total, dos puntos, 55, con esto le indico a Python que la llave \"total\" almacena 55."
   ]
  },
  {
   "cell_type": "code",
   "execution_count": 29,
   "metadata": {},
   "outputs": [
    {
     "name": "stdout",
     "output_type": "stream",
     "text": [
      "{'total': 55}\n"
     ]
    }
   ],
   "source": [
    "diccionario = {\"total\": 55}\n",
    "print(diccionario)"
   ]
  },
  {
   "cell_type": "markdown",
   "metadata": {},
   "source": [
    "Si necesitamos almacenar nuevos valores basta con separarlos mediante una coma."
   ]
  },
  {
   "cell_type": "code",
   "execution_count": 30,
   "metadata": {},
   "outputs": [
    {
     "name": "stdout",
     "output_type": "stream",
     "text": [
      "{'total': 55, 'descuento': True, 'subtotal': 15}\n"
     ]
    }
   ],
   "source": [
    "diccionario = {\"total\": 55, \"descuento\": True, \"subtotal\": 15}\n",
    "\n",
    "print(diccionario)"
   ]
  },
  {
   "cell_type": "markdown",
   "metadata": {},
   "source": [
    "Otra forma de crearlos es llamando a la función *dict*"
   ]
  },
  {
   "cell_type": "code",
   "execution_count": 30,
   "metadata": {},
   "outputs": [
    {
     "name": "stdout",
     "output_type": "stream",
     "text": [
      "{'total': 55, 'descuento': True, 'subtotal': 15}\n"
     ]
    }
   ],
   "source": [
    "diccionario = {\"total\": 55, \"descuento\": True, \"subtotal\": 15}\n",
    "\n",
    "print(diccionario)"
   ]
  },
  {
   "cell_type": "markdown",
   "metadata": {},
   "source": [
    "Veamos otro ejemplo."
   ]
  },
  {
   "cell_type": "code",
   "execution_count": 31,
   "metadata": {},
   "outputs": [
    {
     "name": "stdout",
     "output_type": "stream",
     "text": [
      "{'total': 55, 10: 'Curso de Python', 2.0: True}\n"
     ]
    }
   ],
   "source": [
    "diccionario = {\"total\": 55, 10: \"Curso de Python\", 2.0: True}\n",
    "\n",
    "print(diccionario)"
   ]
  },
  {
   "cell_type": "markdown",
   "metadata": {},
   "source": [
    "En este caso ya nos complicamos un poco. Estamos almacenando tres valores con sus correspondientes llaves. Estas tres llaves son valores inmutables. Tenemos:\n",
    "\n",
    "- Un string (\"total\")\n",
    "- Un número entero (10)\n",
    "- Un decimal (2.0)\n",
    "\n",
    "Estamos almacenando 55, \"Curso Python\", True respectivamente."
   ]
  },
  {
   "cell_type": "markdown",
   "metadata": {},
   "source": [
    "Regularmente haremos uso de llaves de un mismo tipo, comúnmente string, sin embargo si por algún motivo necesitas almacenar otro tipo de llave sabrás que puedes hacerlo. Un dato interesante es que podemos utilizar clases como llaves."
   ]
  },
  {
   "cell_type": "markdown",
   "metadata": {},
   "source": [
    "En este curso más adelante trabajaremos con objetos JSON. Por lo cual los diccionarios serán muy familiares ya que de hecho el equivalente de un JSON en Python son los diccionarios."
   ]
  },
  {
   "cell_type": "code",
   "execution_count": 32,
   "metadata": {},
   "outputs": [
    {
     "name": "stdout",
     "output_type": "stream",
     "text": [
      "{'nombre': 'Nombre del usuario', 'edad': 23, 'curso': 'Curso de Python', 'skills': {'programacion': True, 'base_de_datos': False}, 'No medallas': 10}\n"
     ]
    }
   ],
   "source": [
    "usuario = {\n",
    "    'nombre': 'Nombre del usuario',\n",
    "    'edad' : 23, \n",
    "    'curso': 'Curso de Python',\n",
    "    'skills':{\n",
    "        'programacion' : True,\n",
    "        'base_de_datos': False\n",
    "    },\n",
    "    'No medallas' : 10\n",
    "}\n",
    "\n",
    "print(usuario)"
   ]
  },
  {
   "cell_type": "markdown",
   "metadata": {},
   "source": [
    "Cómo ven este tipo de dato puede ser tan complejo como deseemos.\n",
    "\n",
    "Para poder agregar, obtener o modificar algún valor del diccionario haremos uso de corchetes."
   ]
  },
  {
   "cell_type": "code",
   "execution_count": 33,
   "metadata": {},
   "outputs": [
    {
     "name": "stdout",
     "output_type": "stream",
     "text": [
      "eduardo_gpg\n"
     ]
    }
   ],
   "source": [
    "diccionario = dict()\n",
    "\n",
    "diccionario['usuario'] = 'eduardo'\n",
    "diccionario['usuario'] = 'eduardo_gpg'\n",
    "\n",
    "print(diccionario['usuario'])"
   ]
  },
  {
   "cell_type": "markdown",
   "metadata": {},
   "source": [
    "podemos obtener todas las llaves de nuestro diccionario utilizando el método keys, de igual forma podremos obtener todos los valores el diccionario con le método values."
   ]
  },
  {
   "cell_type": "code",
   "execution_count": 34,
   "metadata": {},
   "outputs": [],
   "source": [
    "diccionario = { 'Eduardo': 1, 'Fernando':2, 'Uriel':3, 'Rafael': 4}"
   ]
  },
  {
   "cell_type": "code",
   "execution_count": 35,
   "metadata": {},
   "outputs": [
    {
     "data": {
      "text/plain": [
       "dict_keys(['Eduardo', 'Fernando', 'Uriel', 'Rafael'])"
      ]
     },
     "execution_count": 35,
     "metadata": {},
     "output_type": "execute_result"
    }
   ],
   "source": [
    "diccionario.keys()"
   ]
  },
  {
   "cell_type": "code",
   "execution_count": 36,
   "metadata": {},
   "outputs": [
    {
     "data": {
      "text/plain": [
       "dict_values([1, 2, 3, 4])"
      ]
     },
     "execution_count": 36,
     "metadata": {},
     "output_type": "execute_result"
    }
   ],
   "source": [
    "diccionario.values()"
   ]
  },
  {
   "cell_type": "markdown",
   "metadata": {},
   "source": [
    "Veamos otro ejemplo"
   ]
  },
  {
   "cell_type": "code",
   "execution_count": 1,
   "metadata": {},
   "outputs": [
    {
     "name": "stdout",
     "output_type": "stream",
     "text": [
      "{'clave1': 234, 'clave2': True, 'clave3': 'Valor 1'}\n",
      "<class 'dict'>\n"
     ]
    }
   ],
   "source": [
    "diccionario = {\n",
    "     \"clave1\":234,\n",
    "     \"clave2\":True,\n",
    "     \"clave3\":\"Valor 1\",\n",
    "}\n",
    "print(diccionario)\n",
    "print(type(diccionario))"
   ]
  },
  {
   "cell_type": "markdown",
   "metadata": {},
   "source": [
    "Usted puede acceder a los valores del diccionario usando cada clave, a continuación se presentan unos ejemplos:"
   ]
  },
  {
   "cell_type": "code",
   "execution_count": 38,
   "metadata": {},
   "outputs": [
    {
     "data": {
      "text/plain": [
       "234"
      ]
     },
     "execution_count": 38,
     "metadata": {},
     "output_type": "execute_result"
    }
   ],
   "source": [
    "diccionario['clave1']"
   ]
  },
  {
   "cell_type": "code",
   "execution_count": 39,
   "metadata": {},
   "outputs": [
    {
     "data": {
      "text/plain": [
       "True"
      ]
     },
     "execution_count": 39,
     "metadata": {},
     "output_type": "execute_result"
    }
   ],
   "source": [
    "diccionario['clave2']"
   ]
  },
  {
   "cell_type": "code",
   "execution_count": 40,
   "metadata": {},
   "outputs": [
    {
     "data": {
      "text/plain": [
       "'Valor 1'"
      ]
     },
     "execution_count": 40,
     "metadata": {},
     "output_type": "execute_result"
    }
   ],
   "source": [
    "diccionario['clave3']"
   ]
  },
  {
   "cell_type": "code",
   "execution_count": 2,
   "metadata": {},
   "outputs": [
    {
     "ename": "KeyError",
     "evalue": "'clave4'",
     "output_type": "error",
     "traceback": [
      "\u001b[1;31m---------------------------------------------------------------------------\u001b[0m",
      "\u001b[1;31mKeyError\u001b[0m                                  Traceback (most recent call last)",
      "\u001b[1;32m<ipython-input-2-d25186fac089>\u001b[0m in \u001b[0;36m<module>\u001b[1;34m\u001b[0m\n\u001b[1;32m----> 1\u001b[1;33m \u001b[0mdiccionario\u001b[0m\u001b[1;33m[\u001b[0m\u001b[1;34m'clave4'\u001b[0m\u001b[1;33m]\u001b[0m\u001b[1;33m\u001b[0m\u001b[1;33m\u001b[0m\u001b[0m\n\u001b[0m",
      "\u001b[1;31mKeyError\u001b[0m: 'clave4'"
     ]
    }
   ],
   "source": [
    "diccionario['clave4']"
   ]
  },
  {
   "cell_type": "markdown",
   "metadata": {},
   "source": [
    "# Acceder a valor de clave\n",
    "\n",
    "Esta operación le permite acceder a un valor especifico del diccionario mediante su clave."
   ]
  },
  {
   "cell_type": "code",
   "execution_count": 3,
   "metadata": {},
   "outputs": [
    {
     "data": {
      "text/plain": [
       "2.13"
      ]
     },
     "execution_count": 3,
     "metadata": {},
     "output_type": "execute_result"
    }
   ],
   "source": [
    "versiones = dict(python=2.7, zope=2.13, plone=5.1, django=2.1)\n",
    "versiones['zope']"
   ]
  },
  {
   "cell_type": "markdown",
   "metadata": {},
   "source": [
    "# Métodos \n",
    "\n",
    "Los objetos de tipo diccionario integra una serie de métodos integrados a continuación:"
   ]
  },
  {
   "cell_type": "markdown",
   "metadata": {},
   "source": [
    "# clear()\n",
    "\n",
    "Este método remueve todos los elementos desde el diccionario."
   ]
  },
  {
   "cell_type": "code",
   "execution_count": 42,
   "metadata": {},
   "outputs": [
    {
     "name": "stdout",
     "output_type": "stream",
     "text": [
      "{'python': 2.7, 'zope': 2.13, 'plone': 5.1}\n"
     ]
    }
   ],
   "source": [
    "versiones = dict(python=2.7, zope=2.13, plone=5.1)\n",
    "print(versiones)"
   ]
  },
  {
   "cell_type": "code",
   "execution_count": 43,
   "metadata": {},
   "outputs": [
    {
     "name": "stdout",
     "output_type": "stream",
     "text": [
      "{}\n"
     ]
    }
   ],
   "source": [
    "versiones.clear()\n",
    "print(versiones)"
   ]
  },
  {
   "cell_type": "markdown",
   "metadata": {},
   "source": [
    "# copy()\n",
    "\n",
    "Este método devuelve una copia superficial del tipo diccionario:"
   ]
  },
  {
   "cell_type": "code",
   "execution_count": 44,
   "metadata": {},
   "outputs": [
    {
     "data": {
      "text/plain": [
       "True"
      ]
     },
     "execution_count": 44,
     "metadata": {},
     "output_type": "execute_result"
    }
   ],
   "source": [
    "versiones = dict(python=2.7, zope=2.13, plone=5.1)\n",
    "otro_versiones = versiones.copy()\n",
    "versiones == otro_versiones"
   ]
  },
  {
   "cell_type": "markdown",
   "metadata": {},
   "source": [
    "# fromkeys()\n",
    "\n",
    "Este método crea un nuevo diccionario con claves a partir de un tipo de dato secuencia. El valor de value por defecto es el tipo None."
   ]
  },
  {
   "cell_type": "code",
   "execution_count": 45,
   "metadata": {},
   "outputs": [
    {
     "name": "stdout",
     "output_type": "stream",
     "text": [
      "Nuevo Diccionario : {'python': None, 'zope': None, 'plone': None}\n"
     ]
    }
   ],
   "source": [
    "secuencia = ('python', 'zope', 'plone')\n",
    "versiones = dict.fromkeys(secuencia)\n",
    "print(\"Nuevo Diccionario : %s\" %  str(versiones))"
   ]
  },
  {
   "cell_type": "markdown",
   "metadata": {},
   "source": [
    "En el ejemplo anterior inicializa los valores de cada clave a None, mas puede inicializar un valor común por defecto para cada clave:"
   ]
  },
  {
   "cell_type": "code",
   "execution_count": 46,
   "metadata": {},
   "outputs": [
    {
     "name": "stdout",
     "output_type": "stream",
     "text": [
      "Nuevo Diccionario : {'python': 0.1, 'zope': 0.1, 'plone': 0.1}\n"
     ]
    }
   ],
   "source": [
    "versiones = dict.fromkeys(secuencia, 0.1)\n",
    "print(\"Nuevo Diccionario : %s\" %  str(versiones))"
   ]
  },
  {
   "cell_type": "markdown",
   "metadata": {},
   "source": [
    "#  get()\n",
    "\n",
    "Este método devuelve el valor en base a una coincidencia de búsqueda en un diccionario mediante una clave, de lo contrario devuelve el objeto None."
   ]
  },
  {
   "cell_type": "code",
   "execution_count": 47,
   "metadata": {},
   "outputs": [
    {
     "data": {
      "text/plain": [
       "5.1"
      ]
     },
     "execution_count": 47,
     "metadata": {},
     "output_type": "execute_result"
    }
   ],
   "source": [
    "versiones = dict(python=2.7, zope=2.13, plone=5.1)\n",
    "versiones.get('plone')"
   ]
  },
  {
   "cell_type": "code",
   "execution_count": 48,
   "metadata": {},
   "outputs": [],
   "source": [
    "versiones.get('php')"
   ]
  },
  {
   "cell_type": "markdown",
   "metadata": {},
   "source": [
    "# items()\n",
    "\n",
    "Este método devuelve una lista de pares de diccionarios (clave, valor), como 2 tuplas (despues veremos que son tuplas en general)."
   ]
  },
  {
   "cell_type": "code",
   "execution_count": 52,
   "metadata": {},
   "outputs": [
    {
     "data": {
      "text/plain": [
       "dict_items([('python', 2.7), ('zope', 2.13), ('plone', 5.1)])"
      ]
     },
     "execution_count": 52,
     "metadata": {},
     "output_type": "execute_result"
    }
   ],
   "source": [
    "versiones = dict(python=2.7, zope=2.13, plone=5.1)\n",
    "versiones.items()"
   ]
  },
  {
   "cell_type": "markdown",
   "metadata": {},
   "source": [
    "# pop()\n",
    "\n",
    "Este método remueve específicamente una clave de diccionario y devuelve valor correspondiente. Lanza una excepción KeyError si la clave no es encontrada."
   ]
  },
  {
   "cell_type": "code",
   "execution_count": 53,
   "metadata": {},
   "outputs": [
    {
     "data": {
      "text/plain": [
       "{'python': 2.7, 'zope': 2.13, 'plone': 5.1}"
      ]
     },
     "execution_count": 53,
     "metadata": {},
     "output_type": "execute_result"
    }
   ],
   "source": [
    "versiones = dict(python=2.7, zope=2.13, plone=5.1)\n",
    "versiones"
   ]
  },
  {
   "cell_type": "code",
   "execution_count": 55,
   "metadata": {},
   "outputs": [
    {
     "data": {
      "text/plain": [
       "2.13"
      ]
     },
     "execution_count": 55,
     "metadata": {},
     "output_type": "execute_result"
    }
   ],
   "source": [
    "versiones.pop('zope')"
   ]
  },
  {
   "cell_type": "markdown",
   "metadata": {},
   "source": [
    "# update()\n",
    "\n",
    "Este método actualiza un diccionario agregando los pares clave-valores en un segundo diccionario. Este método no devuelve nada.\n",
    "\n",
    "El método update() toma un diccionario o un objeto iterable de pares clave/valor (generalmente tuplas). Si se llama a update() sin pasar parámetros, el diccionario permanece sin cambios."
   ]
  },
  {
   "cell_type": "code",
   "execution_count": 56,
   "metadata": {},
   "outputs": [
    {
     "name": "stdout",
     "output_type": "stream",
     "text": [
      "{'python': 2.7, 'zope': 2.13, 'plone': 5.1}\n"
     ]
    }
   ],
   "source": [
    "versiones = dict(python=2.7, zope=2.13, plone=5.1)\n",
    "print(versiones)"
   ]
  },
  {
   "cell_type": "code",
   "execution_count": 57,
   "metadata": {},
   "outputs": [
    {
     "name": "stdout",
     "output_type": "stream",
     "text": [
      "{'django': 2.1}\n"
     ]
    }
   ],
   "source": [
    "versiones_adicional = dict(django=2.1)\n",
    "print(versiones_adicional)"
   ]
  },
  {
   "cell_type": "code",
   "execution_count": 58,
   "metadata": {},
   "outputs": [
    {
     "name": "stdout",
     "output_type": "stream",
     "text": [
      "{'python': 2.7, 'zope': 2.13, 'plone': 5.1, 'django': 2.1}\n"
     ]
    }
   ],
   "source": [
    "versiones.update(versiones_adicional)\n",
    "print(versiones)"
   ]
  },
  {
   "cell_type": "markdown",
   "metadata": {},
   "source": [
    "Como puede apreciar este método no devuelve nada, más si muestra de nuevo el diccionario versiones puede ver que este fue actualizado con el otro diccionario versiones_adicional."
   ]
  },
  {
   "cell_type": "markdown",
   "metadata": {},
   "source": [
    "# Funciones\n",
    "Los objetos de tipo diccionario tienen disponibles una serie de funciones integradas en el interprete Python para su tratamiento, a continuación algunas de estas:"
   ]
  },
  {
   "cell_type": "markdown",
   "metadata": {},
   "source": [
    "# len()\n",
    "\n",
    "Esta función es la misma función integrada len() en el interprete Python pero aplicada al uso de la secuencia de tipo diccionario."
   ]
  },
  {
   "cell_type": "code",
   "execution_count": 64,
   "metadata": {},
   "outputs": [
    {
     "data": {
      "text/plain": [
       "3"
      ]
     },
     "execution_count": 64,
     "metadata": {},
     "output_type": "execute_result"
    }
   ],
   "source": [
    "versiones = dict(python=2.7, zope=2.13, plone=5.1)\n",
    "len(versiones)"
   ]
  },
  {
   "cell_type": "markdown",
   "metadata": {},
   "source": [
    "# Sentencias\n",
    "\n",
    "Los objetos de tipo diccionario tienen disponibles una serie de sentencias integradas en el interprete Python para su tratamiento, a continuación algunas de estas:\n",
    "\n",
    "# del\n",
    "\n",
    "Esta sentencia es la misma sentencia integrada del en el interprete Python pero aplicada al uso de la secuencia de tipo diccionario."
   ]
  },
  {
   "cell_type": "code",
   "execution_count": null,
   "metadata": {},
   "outputs": [],
   "source": [
    "versiones = dict(python=2.7, zope=2.13, plone=5.1, django=2.1)\n",
    "print(versiones)"
   ]
  },
  {
   "cell_type": "code",
   "execution_count": null,
   "metadata": {},
   "outputs": [],
   "source": [
    "del versiones['django']\n",
    "print(versiones)"
   ]
  },
  {
   "cell_type": "markdown",
   "metadata": {},
   "source": [
    "# Ejercicio \n",
    "\n",
    "Tenemos el los siguientes diccionarios"
   ]
  },
  {
   "cell_type": "code",
   "execution_count": null,
   "metadata": {},
   "outputs": [],
   "source": [
    "Informacion = {  'Alumno1': {'nombre':'Daniel', 'edad':11, 'estatura':1.75, 'grado':'Master'},\n",
    "                 'Alumno2':{'nombre':'David', 'edad':32, 'estatura':1.85, 'grado':'Doctor'}   }\n",
    "\n",
    "print(Informacion)"
   ]
  },
  {
   "cell_type": "markdown",
   "metadata": {},
   "source": [
    "Comparemos los nombres de los estudiantes"
   ]
  },
  {
   "cell_type": "code",
   "execution_count": null,
   "metadata": {},
   "outputs": [],
   "source": [
    "if Informacion['Alumno1']['nombre'] == Informacion['Alumno2']['nombre']:\n",
    "    print(\"Los nombres son iguales\")\n",
    "else:\n",
    "    print('Los nombres son diferentes')"
   ]
  },
  {
   "cell_type": "markdown",
   "metadata": {},
   "source": [
    "Miremos quien es mayor "
   ]
  },
  {
   "cell_type": "code",
   "execution_count": 78,
   "metadata": {},
   "outputs": [
    {
     "name": "stdout",
     "output_type": "stream",
     "text": [
      "Daniel es menor\n"
     ]
    }
   ],
   "source": [
    "if Informacion['Alumno1']['edad'] > Informacion['Alumno2']['edad']:\n",
    "    \n",
    "    print(str(Informacion['Alumno1']['nombre']) + ' es mayor') \n",
    "    mayor = {'nombremayor':Informacion['Alumno1']['nombre'], 'edadmayor':Informacion['Alumno1']['edad'] }\n",
    "    \n",
    "elif Informacion['Alumno1']['edad'] < Informacion['Alumno2']['edad']:\n",
    "    \n",
    "    print(str(Informacion['Alumno1']['nombre']) + ' es menor') \n",
    "    \n",
    "    mayor = {'nombremayor':Informacion['Alumno2']['nombre'], 'edadmayor':Informacion['Alumno2']['edad'] }"
   ]
  },
  {
   "cell_type": "code",
   "execution_count": 79,
   "metadata": {},
   "outputs": [
    {
     "name": "stdout",
     "output_type": "stream",
     "text": [
      "{'nombremayor': 'David', 'edadmayor': 32}\n"
     ]
    }
   ],
   "source": [
    "print(mayor)"
   ]
  }
 ],
 "metadata": {
  "kernelspec": {
   "display_name": "Python 2",
   "language": "python",
   "name": "python2"
  },
  "language_info": {
   "codemirror_mode": {
    "name": "ipython",
    "version": 2
   },
   "file_extension": ".py",
   "mimetype": "text/x-python",
   "name": "python",
   "nbconvert_exporter": "python",
   "pygments_lexer": "ipython2",
   "version": "2.7.15"
  }
 },
 "nbformat": 4,
 "nbformat_minor": 4
}
