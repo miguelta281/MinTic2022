{
 "cells": [
  {
   "cell_type": "markdown",
   "metadata": {},
   "source": [
    "### Matemático Pereirano\n",
    "Un matemático perezoso desea conocer de manera sencilla la énesima potencia a la cual debe elevar un número x para que de exactamente un número y. Para esto necesita una función que le permita resolver su problema.\n",
    "\n",
    "Desarrolle una función que dados dos números enteros **x** y **y**, calcule si existe un **número entero n** que permite elevar a **x** dé como resultado **y**.\n",
    "\n",
    "Como precaución, cuando **y** sea 1,0 o un número negativo, siempre se debe retomar False.\n",
    "\n",
    "Nombre de la función: pereira_es_potencia"
   ]
  },
  {
   "cell_type": "code",
   "execution_count": 1,
   "metadata": {},
   "outputs": [
    {
     "name": "stdout",
     "output_type": "stream",
     "text": [
      "False\n"
     ]
    }
   ],
   "source": [
    "import math \n",
    "def pereirsa_es_potencia(x:int,y:int)->bool:\n",
    "    try:\n",
    "        if y > 1:\n",
    "            n = math.log(y,x)\n",
    "            if int(n) == n:\n",
    "                resultado = True\n",
    "            else:\n",
    "                resultado = False\n",
    "        else:\n",
    "            resultado = False\n",
    "        return resultado\n",
    "    except:\n",
    "        print(\"Esta función no opera con números negativos\")\n",
    "\n",
    "print (pereirsa_es_potencia(-3,0))"
   ]
  },
  {
   "cell_type": "code",
   "execution_count": null,
   "metadata": {},
   "outputs": [],
   "source": []
  }
 ],
 "metadata": {
  "kernelspec": {
   "display_name": "Python 3",
   "language": "python",
   "name": "python3"
  },
  "language_info": {
   "codemirror_mode": {
    "name": "ipython",
    "version": 3
   },
   "file_extension": ".py",
   "mimetype": "text/x-python",
   "name": "python",
   "nbconvert_exporter": "python",
   "pygments_lexer": "ipython3",
   "version": "3.8.3"
  }
 },
 "nbformat": 4,
 "nbformat_minor": 4
}
