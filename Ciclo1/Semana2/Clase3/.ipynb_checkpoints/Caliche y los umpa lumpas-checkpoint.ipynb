{
 "cells": [
  {
   "cell_type": "markdown",
   "metadata": {},
   "source": [
    "### Caliche y los umpa lumpas\n",
    "En la fábrica de chocolates de Caliche, el CTU (Chief Technology Umpa-Lumpa) ha decidido implementar un nuevo sistema de clasificación de chocolates para facilitar la organización de los mismos. Cada presentación tiene ahora un identificador numérico único. El identificador es un número entero entre 100 y  999, y sirve para clasificar los chocolates de la siguiente manera.\n",
    "\n",
    "Si el número es palíndromo e impar, la presentación corresponde a un chocolate amargo.\n",
    "Si el número es palíndromo y par, la presentación corresponde a un chocolate dulce.\n",
    "si el número es par, pero no palíndromo, la presentaciín corresponde a un chocolate con canela y clavos.\n",
    "Si el número es impar, pero no palíndromo, la presentación corresponde a un chocolate bajo en grasa.\n",
    "Escriba una función que ayude al CTU a calcular, dado un identiicador único de presentación, a que tipo de chocolate corresponde dicha presentación.\n",
    "\n",
    "Nombre de la función: clasificar_chocolate\n",
    "\n",
    "#### Parámetros\n",
    "Nombre: Id\n",
    "\n",
    "Tipo: int\n",
    "\n",
    "Descripción: El identificador de la presentación cuyo tipo de chocolate se quiere calcular.\n",
    "\n",
    "#### Retorno\n",
    "Tipo: str\n",
    "\n",
    "Descripción: Si el número es Palindromo e impar, la presentación corresponde a un chocolate amargo, y se retorna **BITTER**. Si el número es palindromo y par, la presentación corresponde a un chocolate dulce, y se retorna **SWEET**. Si el número es par, pero no palindromo, la presentación corresponde a un chocolate con canela y clavos, y se retorna **CINNAMON**. Si el número es impar, pero no palindromo, la presentación corresponde a un chocolate bajo en grasa, y se retorna **LIGHT**"
   ]
  },
  {
   "cell_type": "code",
   "execution_count": 11,
   "metadata": {},
   "outputs": [],
   "source": [
    "def ParImpar(numero:int)->str:\n",
    "    if numero%2 == 0:\n",
    "        resultado = \"Par\"\n",
    "    else:\n",
    "        resultado = \"Impar\"\n",
    "    return resultado\n",
    "\n",
    "def palindromo (numero:int)->bool:\n",
    "    num = str(numero)\n",
    "    if num[0] == num[2]:\n",
    "        resultado = True\n",
    "    else:\n",
    "        resultado = False\n",
    "    return resultado \n",
    "\n",
    "def clasificar_chocolate(Id:int)-> str:\n",
    "    IdParImpar = ParImpar(Id)\n",
    "    IdPalindromo = palindromo(Id)\n",
    "    \n",
    "    if IdPalindromo == True:\n",
    "        if IdParImpar == \"Impar\":\n",
    "            resultado = \"BITTER\"\n",
    "        else:\n",
    "            resultado = \"SWEET\"\n",
    "        \n",
    "    else:\n",
    "        if IdParImpar == \"Impar\":\n",
    "            resultado = \"LIGHT\"\n",
    "        else:\n",
    "            resultado = \"CINNAMON\"   \n",
    "    return resultado\n"
   ]
  },
  {
   "cell_type": "code",
   "execution_count": 15,
   "metadata": {},
   "outputs": [
    {
     "data": {
      "text/plain": [
       "'LIGHT'"
      ]
     },
     "execution_count": 15,
     "metadata": {},
     "output_type": "execute_result"
    }
   ],
   "source": [
    "clasificar_chocolate(189)"
   ]
  },
  {
   "cell_type": "code",
   "execution_count": null,
   "metadata": {},
   "outputs": [],
   "source": []
  }
 ],
 "metadata": {
  "kernelspec": {
   "display_name": "Python 3",
   "language": "python",
   "name": "python3"
  },
  "language_info": {
   "codemirror_mode": {
    "name": "ipython",
    "version": 3
   },
   "file_extension": ".py",
   "mimetype": "text/x-python",
   "name": "python",
   "nbconvert_exporter": "python",
   "pygments_lexer": "ipython3",
   "version": "3.8.3"
  }
 },
 "nbformat": 4,
 "nbformat_minor": 4
}
