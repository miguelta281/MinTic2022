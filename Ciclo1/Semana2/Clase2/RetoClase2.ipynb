{
 "cells": [
  {
   "cell_type": "markdown",
   "metadata": {},
   "source": [
    "### Despacho de buses\n",
    "En las estaciones de Megabus Pereira los operarios usan una fórmula matemática sencilla para saber si deben o no despachar un bues nuevo. Para esto tienen un contador de pasajeros en el bus entrante (personas_bus) y un contador de personas paradas en la plataforma (personas_estacion).\n",
    "\n",
    "Los operarios saben que la capacidad teórica máxima del bus es de 150 personas. Sin embargo, también saben que si se aprietan pueden trasportar a máximo 200 personas. Los pasajeros no quieren viajar incómodos pero tampoco quieren demorarse mucho tomando el bus, así que sólo se montarán a un bus con sobrecupo que llegue a la estación si hay 40 o más personas en la plataforma. Luego de que el bus se detenga y entren las personas, los operarios decidirán si deben enviar un bus adicional: enviarán un bus nuevo, si al salir de la estación el bus quedó con sobrecupo o si en la plataforma quedaron 50 o más personas.\n",
    "\n",
    "Su trabajo es construir una función en Python que le ayude a los operarios de MegaBus a tomar la decisión de despachar o no un bus nuevo."
   ]
  },
  {
   "cell_type": "code",
   "execution_count": 1,
   "metadata": {},
   "outputs": [],
   "source": [
    "def despacho_buses(personas_bus:int,personas_estacion:int):\n",
    "    if personas_bus > 150 and personas_estacion >= 40:\n",
    "        personasBus = personas_bus + personas_estacion\n",
    "        if personasBus > 200:\n",
    "            personasBusSaliendo = 200\n",
    "            personasEsperando = personasBus- 200\n",
    "        else:\n",
    "            personasBusSaliendo = personasBus\n",
    "            personasEsperando = 0\n",
    "    \n",
    "    else:\n",
    "        personasBus = personas_bus + personas_estacion\n",
    "        if personasBus > 200:\n",
    "            personasBusSaliendo = 200\n",
    "            personasEsperando = personasBus - 200\n",
    "        else:\n",
    "            personasBusSaliendo = personasBus\n",
    "            personasEsperando = 0\n",
    "        \n",
    "    if personasBusSaliendo >= 150 or personasEsperando >= 50:\n",
    "        resultado = True\n",
    "    else:\n",
    "        resultado = False\n",
    "    \n",
    "    return resultado"
   ]
  },
  {
   "cell_type": "code",
   "execution_count": 3,
   "metadata": {},
   "outputs": [
    {
     "name": "stdout",
     "output_type": "stream",
     "text": [
      "True\n",
      "True\n",
      "False\n",
      "True\n"
     ]
    }
   ],
   "source": [
    "print(despacho_buses(50,200))\n",
    "print(despacho_buses(170,10))\n",
    "print(despacho_buses(50,10))\n",
    "print(despacho_buses(150,50))"
   ]
  },
  {
   "cell_type": "code",
   "execution_count": null,
   "metadata": {},
   "outputs": [],
   "source": []
  }
 ],
 "metadata": {
  "kernelspec": {
   "display_name": "Python 3",
   "language": "python",
   "name": "python3"
  },
  "language_info": {
   "codemirror_mode": {
    "name": "ipython",
    "version": 3
   },
   "file_extension": ".py",
   "mimetype": "text/x-python",
   "name": "python",
   "nbconvert_exporter": "python",
   "pygments_lexer": "ipython3",
   "version": "3.8.3"
  }
 },
 "nbformat": 4,
 "nbformat_minor": 4
}
