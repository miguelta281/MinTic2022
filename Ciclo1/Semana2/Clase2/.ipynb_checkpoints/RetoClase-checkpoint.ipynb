{
 "cells": [
  {
   "cell_type": "markdown",
   "metadata": {},
   "source": [
    "### Parqueadero de buses\n",
    "El operario del parqueadero de Megabuses es un señor muy ordenado. Cada dìa, parquea los buses sin falta entre sus tres lotes de parqueo. Todos los lotes tienen igual capacidad.\n",
    "\n",
    "Él ha decidido asignarle un número a cada uno de los buses, de tal forma que, con solamente ver el número de este, pueda dirigir al conductor al lote que le corresponde. Ayude al operario a escribir un programa que, dado un total de parqueaderos y el número del bus, determine si a este bus le corresponde parquear en el primer, segundo o tercer lote.\n",
    "\n",
    "Validem que el número total de parqueaderos sea múltiplo de 3 o si el npumero del bus no excede el tamaño del parqueadero.\n"
   ]
  },
  {
   "cell_type": "code",
   "execution_count": 1,
   "metadata": {},
   "outputs": [],
   "source": [
    "def parqueadero_buses (cantidad_buses, numero_bus):\n",
    "    p = cantidad_buses % 3 == 0\n",
    "    q = numero_bus <= cantidad_buses\n",
    "    lote = -1\n",
    "    if p and q:\n",
    "        if numero_bus % 3 == 1 or numero_bus == 1:\n",
    "            lote = 1\n",
    "        elif numero_bus % 3 == 2 or numero_bus == 2:\n",
    "            lote = 2\n",
    "        else:\n",
    "            lote = 3\n",
    "    return lote\n",
    "    "
   ]
  },
  {
   "cell_type": "code",
   "execution_count": 2,
   "metadata": {},
   "outputs": [
    {
     "data": {
      "text/plain": [
       "-1"
      ]
     },
     "execution_count": 2,
     "metadata": {},
     "output_type": "execute_result"
    }
   ],
   "source": [
    "parqueadero_buses(66,99)"
   ]
  },
  {
   "cell_type": "code",
   "execution_count": null,
   "metadata": {},
   "outputs": [],
   "source": []
  }
 ],
 "metadata": {
  "kernelspec": {
   "display_name": "Python 3",
   "language": "python",
   "name": "python3"
  },
  "language_info": {
   "codemirror_mode": {
    "name": "ipython",
    "version": 3
   },
   "file_extension": ".py",
   "mimetype": "text/x-python",
   "name": "python",
   "nbconvert_exporter": "python",
   "pygments_lexer": "ipython3",
   "version": "3.8.3"
  }
 },
 "nbformat": 4,
 "nbformat_minor": 4
}
