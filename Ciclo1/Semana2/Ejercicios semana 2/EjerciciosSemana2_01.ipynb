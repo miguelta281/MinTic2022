{
 "cells": [
  {
   "cell_type": "markdown",
   "metadata": {},
   "source": [
    "### Ejercicio 1\n",
    "Leer un número entero y determinar si es un número terminado en 4."
   ]
  },
  {
   "cell_type": "code",
   "execution_count": 1,
   "metadata": {},
   "outputs": [],
   "source": [
    "def NumeroTerminadoen4 (numero):\n",
    "    num = str(numero)\n",
    "    if num[-1] == \"4\":\n",
    "        resultado = \"es\"\n",
    "    else:\n",
    "        resultado = \"no es\"\n",
    "    return \"{}, {} un número terminado en 4\".format(numero, resultado)"
   ]
  },
  {
   "cell_type": "code",
   "execution_count": 2,
   "metadata": {},
   "outputs": [
    {
     "name": "stdout",
     "output_type": "stream",
     "text": [
      "45, no es un número terminado en 4\n"
     ]
    }
   ],
   "source": [
    "print(NumeroTerminadoen4(45))"
   ]
  },
  {
   "cell_type": "markdown",
   "metadata": {},
   "source": [
    "### Ejercicio 2\n",
    "Leer un número entero y determinar si tiene 3 dígitos."
   ]
  },
  {
   "cell_type": "code",
   "execution_count": 3,
   "metadata": {},
   "outputs": [],
   "source": [
    "def NumeroDe3Digitos (numero):\n",
    "    num = str(numero)\n",
    "    if len(num) == 3:\n",
    "        resultado = \"es\"\n",
    "    else:\n",
    "        resultado = \"no es\"\n",
    "    return \"{}, {} un número de tres digitos\".format(numero,resultado)"
   ]
  },
  {
   "cell_type": "code",
   "execution_count": 4,
   "metadata": {},
   "outputs": [
    {
     "name": "stdout",
     "output_type": "stream",
     "text": [
      "435, es un número de tres digitos\n"
     ]
    }
   ],
   "source": [
    "print(NumeroDe3Digitos(435))"
   ]
  },
  {
   "cell_type": "markdown",
   "metadata": {},
   "source": [
    "### Ejercicio 3\n",
    "Leer un número entero de dos dígitos y determinar si ambos dígitos son pares."
   ]
  },
  {
   "cell_type": "code",
   "execution_count": 5,
   "metadata": {},
   "outputs": [],
   "source": [
    "def Par (numero):\n",
    "    if numero % 2 == 0:\n",
    "        resultado = True \n",
    "    else:\n",
    "        resultado = False\n",
    "     \n",
    "    return resultado\n",
    "\n",
    "def DigitosPares (numero):\n",
    "    num = str(numero)\n",
    "    if Par (int(num[0])) and Par (int(num[1])):\n",
    "        resultado = \"Los dos digitos son pares\"\n",
    "    else:\n",
    "        resultado = \"Los dos digitos no son pares\"\n",
    "        \n",
    "    return resultado"
   ]
  },
  {
   "cell_type": "code",
   "execution_count": 6,
   "metadata": {},
   "outputs": [
    {
     "name": "stdout",
     "output_type": "stream",
     "text": [
      "Los dos digitos son pares\n"
     ]
    }
   ],
   "source": [
    "print(DigitosPares(44))"
   ]
  },
  {
   "cell_type": "markdown",
   "metadata": {},
   "source": [
    "### Ejercicio 4\n",
    "Leer un número entero de dos dígitos menor que 20 y determinar si es primo."
   ]
  },
  {
   "cell_type": "code",
   "execution_count": 7,
   "metadata": {},
   "outputs": [],
   "source": [
    "\"\"\"\n",
    "Use el código de la semana 3, se debe poder hacer unicamente con variables\n",
    "\"\"\"\n",
    "def esPrimo(n:int)-> bool:\n",
    "    i = 1\n",
    "    numeroDivisores = 0\n",
    "    while (i <= n):\n",
    "        if n % i == 0:\n",
    "            numeroDivisores =numeroDivisores +1\n",
    "        i = i +1\n",
    "    if numeroDivisores == 2:\n",
    "        resultado = True\n",
    "    else: \n",
    "        resultado = False\n",
    "    return resultado"
   ]
  },
  {
   "cell_type": "markdown",
   "metadata": {},
   "source": [
    "### Ejercicio 5\n",
    "Leer un número entero de dos dígitos y determinar si es primo y además si es negativo."
   ]
  },
  {
   "cell_type": "code",
   "execution_count": 8,
   "metadata": {},
   "outputs": [],
   "source": [
    "def Ejercicio5 (numero:int)->str:\n",
    "    if numero < 0:\n",
    "        resultado = \"es un número negativo, por tanto no puede ser primo\"\n",
    "    else:\n",
    "        if esPrimo(numero):\n",
    "            resultado = \"es un número primo\"\n",
    "        else:\n",
    "            resultado = \"no es un número negativo\"\n",
    "    \n",
    "    return \"{}, {}\".format(numero,resultado)"
   ]
  },
  {
   "cell_type": "code",
   "execution_count": 9,
   "metadata": {},
   "outputs": [
    {
     "name": "stdout",
     "output_type": "stream",
     "text": [
      "-8, es un número negativo, por tanto no puede ser primo\n"
     ]
    }
   ],
   "source": [
    "print(Ejercicio5(-8))"
   ]
  },
  {
   "cell_type": "markdown",
   "metadata": {},
   "source": [
    "### Ejercicio 6\n",
    "Leer un número entero de dos dígitos y determinar si los dos dígitos son iguales."
   ]
  },
  {
   "cell_type": "code",
   "execution_count": 10,
   "metadata": {},
   "outputs": [],
   "source": [
    "def DigitosIguales (numero:int)->str:\n",
    "    num = str(numero)\n",
    "    if int(num[0]) == int(num[1]):\n",
    "        resultado = \"tiene\"\n",
    "    else:\n",
    "        resultado = \"no tiene\"\n",
    "    return \"{}, {} los dos dígitos iguales\".format(numero,resultado)"
   ]
  },
  {
   "cell_type": "code",
   "execution_count": 11,
   "metadata": {},
   "outputs": [
    {
     "name": "stdout",
     "output_type": "stream",
     "text": [
      "45, no tiene los dos dígitos iguales\n"
     ]
    }
   ],
   "source": [
    "print(DigitosIguales(45))"
   ]
  },
  {
   "cell_type": "markdown",
   "metadata": {},
   "source": [
    "### Ejercicios 7\n",
    "Leer dos números enteros y determinar cuál es el mayor."
   ]
  },
  {
   "cell_type": "code",
   "execution_count": 12,
   "metadata": {},
   "outputs": [],
   "source": [
    "def NumeroMayor (numero1:int, numero2:int)-> str:\n",
    "    if numero1 > numero2:\n",
    "        numMayor = numero1\n",
    "        numMenor = numero2\n",
    "    else:\n",
    "        numMayor = numero2\n",
    "        numMenor = numero1\n",
    "        \n",
    "    return \"{} es mayor que {}\".format(numMayor,numMenor)"
   ]
  },
  {
   "cell_type": "code",
   "execution_count": 13,
   "metadata": {},
   "outputs": [
    {
     "name": "stdout",
     "output_type": "stream",
     "text": [
      "429 es mayor que 300\n"
     ]
    }
   ],
   "source": [
    "print(NumeroMayor(429,300))"
   ]
  },
  {
   "cell_type": "markdown",
   "metadata": {},
   "source": [
    "### Ejercicio 8\n",
    "Leer dos números enteros de dos dígitos y determinar a cuánto es igual la suma de todos los dígitos."
   ]
  },
  {
   "cell_type": "code",
   "execution_count": 14,
   "metadata": {},
   "outputs": [],
   "source": [
    "def SumaDigitos (numero1:int,numero2:int)->int:\n",
    "    num1, num2 = str(numero1), str(numero2)\n",
    "    resultado = int(num1[0]) + int(num1[1]) + int(num2[0]) + int(num2[1]) \n",
    "    return resultado "
   ]
  },
  {
   "cell_type": "code",
   "execution_count": 15,
   "metadata": {},
   "outputs": [
    {
     "data": {
      "text/plain": [
       "9"
      ]
     },
     "execution_count": 15,
     "metadata": {},
     "output_type": "execute_result"
    }
   ],
   "source": [
    "SumaDigitos(21,51)"
   ]
  },
  {
   "cell_type": "markdown",
   "metadata": {},
   "source": [
    "### Ejercicio 9\n",
    "Leer un número entero de tres dígitos y determinar en qué posición está el mayor dígito."
   ]
  },
  {
   "cell_type": "code",
   "execution_count": 16,
   "metadata": {},
   "outputs": [],
   "source": [
    "# Es la forma adecuada para no usar str o listas, solo por facilidad se uso en los anteriores.\n",
    "def DigitoMayor(numero:int)->int:\n",
    "    digito3 = numero % 10\n",
    "    digito2 = (numero // 10) % 10\n",
    "    digito1 = (numero // 100) % 10\n",
    "    mayor = max(digito1,digito2,digito3)\n",
    "    if mayor == digito1:\n",
    "        resultado = 1\n",
    "    elif mayor == digito2:\n",
    "        resultado = 2\n",
    "    else:\n",
    "        resultado = 3\n",
    "        \n",
    "    return resultado"
   ]
  },
  {
   "cell_type": "code",
   "execution_count": 17,
   "metadata": {},
   "outputs": [
    {
     "data": {
      "text/plain": [
       "2"
      ]
     },
     "execution_count": 17,
     "metadata": {},
     "output_type": "execute_result"
    }
   ],
   "source": [
    "DigitoMayor(452)"
   ]
  },
  {
   "cell_type": "markdown",
   "metadata": {},
   "source": [
    "### Ejercicio 10\n",
    "Leer un número entero de tres dígitos y determinar si algún dígito es múltiplo de los otros."
   ]
  },
  {
   "cell_type": "code",
   "execution_count": 18,
   "metadata": {},
   "outputs": [],
   "source": [
    "def DigitoMultiplo (numero:int)->str:\n",
    "    digito3 = numero % 10\n",
    "    digito2 = (numero // 10) % 10\n",
    "    digito1 = (numero // 100) % 10\n",
    "    if digito1 % digito2 == 0 and digito1 % digito3 == 0:\n",
    "        resultado = \"El primer dígito es multiplo de al menos uno de los otros dos dígitos\"\n",
    "    elif digito2 % digito1 == 0 and digito2%digito3 ==0:\n",
    "        resultado = \"El segundo dígito es multiplo de al menos uno de los otros dos dígitos\"\n",
    "    elif digito3 % digito1 == 0 and digito3 % digito2 == 0:\n",
    "        resultado = \"El tercer dígito es nultiplo de al menos uno de los otros dos dígitos\"\n",
    "    return resultado "
   ]
  },
  {
   "cell_type": "code",
   "execution_count": 19,
   "metadata": {},
   "outputs": [
    {
     "data": {
      "text/plain": [
       "'El tercer dígito es nultiplo de al menos uno de los otros dos dígitos'"
      ]
     },
     "execution_count": 19,
     "metadata": {},
     "output_type": "execute_result"
    }
   ],
   "source": [
    "DigitoMultiplo(214)"
   ]
  },
  {
   "cell_type": "markdown",
   "metadata": {},
   "source": [
    "### Ejercicio 11\n",
    "Leer tres números enteros de dos dígitos cada uno y determinar en cuál de ellos se encuentra el mayor dígito."
   ]
  },
  {
   "cell_type": "code",
   "execution_count": 20,
   "metadata": {},
   "outputs": [],
   "source": [
    "def MayorDigito (num1:int, num2:int, num3:int)->int:\n",
    "    num1= str(num1)\n",
    "    num2= str(num2)\n",
    "    num3= str(num3)\n",
    "    digito1Num1, digito2Num1 = int(num1[0]) , int(num1[1])\n",
    "    digito1Num2, digito2Num2 = int(num2[0]) , int(num2[1])\n",
    "    digito1Num3, digito2Num3 = int(num3[0]) , int(num3[1])\n",
    "    digitoMayor = max(digito1Num1, digito1Num2, digito1Num3, digito2Num1, digito2Num2, digito2Num3)\n",
    "    if str(digitoMayor) in num1 and  str(digitoMayor) in num2 and str(digitoMayor) in num3:\n",
    "        resultado = \"El dígito mayor esta en los 3 números\"\n",
    "    elif str(digitoMayor) in num1 and  str(digitoMayor) in num2:\n",
    "        resultado = \"El dígito mayor esta en {} y {}\".format(num1, num2)\n",
    "    elif str(digitoMayor) in num1 and  str(digitoMayor) in num3:\n",
    "        resultado = \"El dígito mayor esta en {} y {}\".format(num1, num3)\n",
    "    elif str(digitoMayor) in num2 and  str(digitoMayor) in num3:\n",
    "        resultado = \"El dígito mayor esta en {} y {}\".format(num2, num3)\n",
    "    elif str(digitoMayor) in num1:\n",
    "        resultado = \"El dígito mayor esta en {}\".format(num1)\n",
    "    elif str(digitoMayor) in num2:\n",
    "        resultado = \"El dígito mayor esta en {}\".format(num2)\n",
    "    elif str(digitoMayor) in num3:\n",
    "        resultado = \"El dígito mayor esta en {}\".format(num3)\n",
    "    \n",
    "    return resultado"
   ]
  },
  {
   "cell_type": "code",
   "execution_count": 21,
   "metadata": {},
   "outputs": [
    {
     "data": {
      "text/plain": [
       "'El dígito mayor esta en 79'"
      ]
     },
     "execution_count": 21,
     "metadata": {},
     "output_type": "execute_result"
    }
   ],
   "source": [
    "MayorDigito(18,16,79)"
   ]
  },
  {
   "cell_type": "markdown",
   "metadata": {},
   "source": [
    "### Ejercicio 12\n",
    "Leer un número entero de suma de los otros dos. (no se entiende el enunciado)"
   ]
  },
  {
   "cell_type": "markdown",
   "metadata": {},
   "source": [
    "### Ejercicio 13\n",
    "Leer un número entero nemor que 50 y positivo y determinar si es un número primo."
   ]
  },
  {
   "cell_type": "code",
   "execution_count": 22,
   "metadata": {},
   "outputs": [
    {
     "data": {
      "text/plain": [
       "False"
      ]
     },
     "execution_count": 22,
     "metadata": {},
     "output_type": "execute_result"
    }
   ],
   "source": [
    "\"\"\"\n",
    "Use el código de la semana 3, se debe poder hacer unicamente con variables\n",
    "\"\"\"\n",
    "def esPrimo(n:int)-> bool:\n",
    "    i = 1\n",
    "    numeroDivisores = 0\n",
    "    while (i <= n):\n",
    "        if n % i == 0:\n",
    "            numeroDivisores =numeroDivisores +1\n",
    "        i = i +1\n",
    "    if numeroDivisores == 2:\n",
    "        resultado = True\n",
    "    else: \n",
    "        resultado = False\n",
    "    return resultado\n",
    "\n",
    "esPrimo(45)"
   ]
  },
  {
   "cell_type": "markdown",
   "metadata": {},
   "source": [
    "### Ejercicio 14\n",
    "Leer un número entero de cuatro dígitos y determinar si el segundo dígito es igual al punúltimo."
   ]
  },
  {
   "cell_type": "code",
   "execution_count": 23,
   "metadata": {},
   "outputs": [
    {
     "data": {
      "text/plain": [
       "True"
      ]
     },
     "execution_count": 23,
     "metadata": {},
     "output_type": "execute_result"
    }
   ],
   "source": [
    "def CompararDigitos (numero:int)->bool:\n",
    "    digito4 = numero % 10\n",
    "    digito3 = (numero // 10) % 10\n",
    "    digito2 = (numero // 100) % 10\n",
    "    digito1 = (numero // 1000) % 10\n",
    "    if digito2 == digito3:\n",
    "        resultado = True\n",
    "    else:\n",
    "        resultado = False\n",
    "    return resultado\n",
    "\n",
    "CompararDigitos(4335)"
   ]
  },
  {
   "cell_type": "markdown",
   "metadata": {},
   "source": [
    "### Ejercicio 15\n",
    "Leer un número entero y determinar si es múltiplo de 7"
   ]
  },
  {
   "cell_type": "code",
   "execution_count": 24,
   "metadata": {},
   "outputs": [
    {
     "data": {
      "text/plain": [
       "True"
      ]
     },
     "execution_count": 24,
     "metadata": {},
     "output_type": "execute_result"
    }
   ],
   "source": [
    "def MultiploDeSiete (numero:int)->bool:\n",
    "    if numero % 7 == 0:\n",
    "        resultado = True\n",
    "    else:\n",
    "        resultado = False\n",
    "    return resultado\n",
    "\n",
    "MultiploDeSiete(49)"
   ]
  },
  {
   "cell_type": "markdown",
   "metadata": {},
   "source": [
    "### Ejercicio 16\n",
    "Leer un número entero menor que mil y determinar cuántos dígitos tiene."
   ]
  },
  {
   "cell_type": "code",
   "execution_count": 25,
   "metadata": {},
   "outputs": [
    {
     "data": {
      "text/plain": [
       "3"
      ]
     },
     "execution_count": 25,
     "metadata": {},
     "output_type": "execute_result"
    }
   ],
   "source": [
    "def NumeroDeDigitos (numero:int)->int:\n",
    "    return len(str(numero))\n",
    "\n",
    "NumeroDeDigitos(342)"
   ]
  },
  {
   "cell_type": "markdown",
   "metadata": {},
   "source": [
    "### Ejercicio 17\n",
    "Leer un número entero de 4 dígitos y determinar cuántos dígitos tiene."
   ]
  },
  {
   "cell_type": "code",
   "execution_count": 26,
   "metadata": {},
   "outputs": [
    {
     "name": "stdout",
     "output_type": "stream",
     "text": [
      "Hay más impares que pares\n"
     ]
    }
   ],
   "source": [
    "def MasParesOImpares (numero:int)->str:\n",
    "    digito4 = numero % 10\n",
    "    digito3 = (numero // 10) % 10\n",
    "    digito2 = (numero // 100) % 10\n",
    "    digito1 = (numero // 1000) % 10\n",
    "    \n",
    "    a = 0\n",
    "    if Par(digito1): a = 1\n",
    "    if Par(digito2): a = a + 1 \n",
    "    if Par(digito3): a = a + 1\n",
    "    if Par(digito4): a = a + 1 \n",
    "    b = 4 - a\n",
    "    \n",
    "    if a > b: \n",
    "        resultado = \"Hay más pares que de impares\"\n",
    "    elif a == b:\n",
    "        resultado = \"Hay igual número de pares que de impares\"\n",
    "    else:\n",
    "        resultado = \"Hay más impares que pares\"\n",
    "    return resultado\n",
    "\n",
    "print(MasParesOImpares(1132))"
   ]
  },
  {
   "cell_type": "markdown",
   "metadata": {},
   "source": [
    "### Ejercicio 18\n",
    "Leer tres números enteros y determinar si el último dígito de los tres números es igual."
   ]
  },
  {
   "cell_type": "code",
   "execution_count": 27,
   "metadata": {},
   "outputs": [
    {
     "data": {
      "text/plain": [
       "False"
      ]
     },
     "execution_count": 27,
     "metadata": {},
     "output_type": "execute_result"
    }
   ],
   "source": [
    "def UltimosDigitosIguales (numero1:int, numero2:int, numero3:int)->bool:\n",
    "    num1, num2, num3 = str(numero1), str(numero2), str(numero3)\n",
    "    if num1[-1] == num2[-1] == num3[-1]:\n",
    "        resultado = True\n",
    "    else:\n",
    "        resultado = False\n",
    "    return resultado\n",
    "\n",
    "UltimosDigitosIguales(46,65,75)"
   ]
  },
  {
   "cell_type": "markdown",
   "metadata": {},
   "source": [
    "### Ejercicio 19\n",
    "A un trabajador le pagan según sus horas trabajadas por una tarifa de pago por hora. Si la cantidad de horas trabajadas es mayor  a 40 horas. La tarifa se incrementa en 50% para las horas extras. Calcular el salario del trabajdor dadas las horas trabajadas y la tarifa ingresadas por usuario. (supongo las horas extras son apartir de 40)"
   ]
  },
  {
   "cell_type": "code",
   "execution_count": 28,
   "metadata": {},
   "outputs": [
    {
     "data": {
      "text/plain": [
       "53500.0"
      ]
     },
     "execution_count": 28,
     "metadata": {},
     "output_type": "execute_result"
    }
   ],
   "source": [
    "def Salario (horas:int, tarifa:float)->float:\n",
    "    if horas > 40:\n",
    "        extras = (horas - 40 ) * (tarifa * 1.5)\n",
    "        horasTrabajadas = 40 * tarifa\n",
    "        resultado = extras + horasTrabajadas\n",
    "    else:\n",
    "        resultado = horas * tarifa\n",
    "    return resultado\n",
    "\n",
    "Salario(49, 1000)"
   ]
  },
  {
   "cell_type": "markdown",
   "metadata": {},
   "source": [
    "### Ejercicio 20\n",
    "Hacer un algoritmo que calcule el total a pagar por la compra de camias. Si se compran tres camisas o más se aplica un descuento de 20% sobre el total de la compra y si son menos de tres camisas un descuento del 10%\n"
   ]
  },
  {
   "cell_type": "code",
   "execution_count": 29,
   "metadata": {},
   "outputs": [
    {
     "data": {
      "text/plain": [
       "1800.0"
      ]
     },
     "execution_count": 29,
     "metadata": {},
     "output_type": "execute_result"
    }
   ],
   "source": [
    "def TiendaRopa (camisas:int, precio:int)->float:\n",
    "    Apagar = camisas * precio\n",
    "    if camisas > 3:\n",
    "        resultado = (Apagar) - (Apagar * 0.3)\n",
    "    else:\n",
    "        resultado = (Apagar) - (Apagar * 0.1)\n",
    "    return resultado\n",
    "\n",
    "TiendaRopa(2,1000)"
   ]
  },
  {
   "cell_type": "markdown",
   "metadata": {},
   "source": [
    "### Ejercicio 21\n",
    "Hacer un programa que pida al usuario las tres notas de un alumno (deben estar entre 0 y 5, y pueden tener decimales) y calcule el primedio e indique mediante un mensake si aprobó o no (aprueba con nota mayor a 3). Se dene validar que las notas introducidas estén dentro del rango permitido."
   ]
  },
  {
   "cell_type": "code",
   "execution_count": 30,
   "metadata": {},
   "outputs": [
    {
     "data": {
      "text/plain": [
       "'El estudiante aprobo'"
      ]
     },
     "execution_count": 30,
     "metadata": {},
     "output_type": "execute_result"
    }
   ],
   "source": [
    "def Notas (num1:float, num2:float, num3:float):\n",
    "    promedio = (num1 + num2 + num3) / 3\n",
    "    if promedio > 3.0:\n",
    "        resultado = \"El estudiante aprobo\"\n",
    "    else: \n",
    "        resultado = \"El estudiante reprobo\"\n",
    "    return resultado\n",
    "\n",
    "Notas(4.5,3,2)"
   ]
  },
  {
   "cell_type": "markdown",
   "metadata": {},
   "source": [
    "### Ejercicio 22\n",
    "Verificar si un texto que termina en punto es un palíndromo. Un texto es palíndromo si se lee lo mismo de izquierda a derecha o de derecha a izquierda. Ej **Amor a roma**."
   ]
  },
  {
   "cell_type": "code",
   "execution_count": 31,
   "metadata": {},
   "outputs": [
    {
     "data": {
      "text/plain": [
       "True"
      ]
     },
     "execution_count": 31,
     "metadata": {},
     "output_type": "execute_result"
    }
   ],
   "source": [
    "def Palindromo (frase:int)->bool:\n",
    "    if frase[:-1]== frase[::-1][1:]:\n",
    "        resultado = True\n",
    "    else:\n",
    "        resultado = False\n",
    "    return resultado\n",
    "\n",
    "Palindromo(\"amor a roma.\")"
   ]
  },
  {
   "cell_type": "markdown",
   "metadata": {},
   "source": [
    "### Ejercicio 23\n",
    "Diseñe una calculadora que sume, reste, multiplique y divida, la cual le pida al usuario mediante input el valor del primer número, el valor del segundo número y la operación a realizar, hay que tener en cuenta la validación de los valores de entrada."
   ]
  },
  {
   "cell_type": "code",
   "execution_count": 32,
   "metadata": {},
   "outputs": [
    {
     "name": "stdout",
     "output_type": "stream",
     "text": [
      "Las operaciones son: Sumar = s, Restar = r, Multiplicar = m, Dividir = d\n",
      " \n",
      "ingrese la operación s\n",
      "Ingrese el primer número 1\n",
      "Ingrese el segundo número 4\n"
     ]
    },
    {
     "data": {
      "text/plain": [
       "5"
      ]
     },
     "execution_count": 32,
     "metadata": {},
     "output_type": "execute_result"
    }
   ],
   "source": [
    "def Calculadora ()->float:\n",
    "    print(\"Las operaciones son: Sumar = s, Restar = r, Multiplicar = m, Dividir = d\")\n",
    "    print (\" \")\n",
    "    operacion = str(input(\"ingrese la operación \"))\n",
    "    numero1 = int(input(\"Ingrese el primer número \"))\n",
    "    numero2 = int(input(\"Ingrese el segundo número \"))\n",
    "        \n",
    "    if operacion == \"s\":\n",
    "        resultado = numero1 + numero2\n",
    "    elif operacion == \"r\":\n",
    "        resultado = numero1 - numero2\n",
    "    elif operacion == 'm':\n",
    "        resultado = numero1 * numero2\n",
    "    elif operacion == 'd':\n",
    "        resultado = numero1  / numero2\n",
    "    \n",
    "    return resultado \n",
    "\n",
    "Calculadora()"
   ]
  },
  {
   "cell_type": "code",
   "execution_count": null,
   "metadata": {},
   "outputs": [],
   "source": []
  }
 ],
 "metadata": {
  "kernelspec": {
   "display_name": "Python 3",
   "language": "python",
   "name": "python3"
  },
  "language_info": {
   "codemirror_mode": {
    "name": "ipython",
    "version": 3
   },
   "file_extension": ".py",
   "mimetype": "text/x-python",
   "name": "python",
   "nbconvert_exporter": "python",
   "pygments_lexer": "ipython3",
   "version": "3.8.3"
  }
 },
 "nbformat": 4,
 "nbformat_minor": 4
}
