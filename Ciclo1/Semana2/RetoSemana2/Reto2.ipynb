{
 "cells": [
  {
   "cell_type": "code",
   "execution_count": 1,
   "metadata": {},
   "outputs": [],
   "source": [
    "def prestamo(informacion:dict)->dict:\n",
    "    if type(informacion['dependientes']) == str:\n",
    "        informacion['dependientes'] = 3\n",
    "        \n",
    "    \n",
    "    resultado = dict(id_prestamo = informacion['id_prestamo'], aprobado = -1)\n",
    "    if informacion[\"historia_credito\"] == 1:\n",
    "        if informacion[\"ingreso_codeudor\"]>0 and (informacion['ingreso_deudor'] / 9) > informacion['cantidad_prestamo']:\n",
    "            resultado[\"aprobado\"] = True\n",
    "        else:\n",
    "            if informacion['dependientes'] > 2 and informacion['independiente'] == 'Si':\n",
    "                resultado['aprobado'] = (informacion['ingreso_codeudor']/ 12) > informacion['cantidad_prestamo']\n",
    "            else:\n",
    "                resultado['aprobado'] = informacion['cantidad_prestamo'] < 200\n",
    "    \n",
    "    else:\n",
    "        if informacion[\"independiente\"] == 'Si':\n",
    "            if not(informacion['casado'] == 'Si' and informacion['dependientes'] > 1):\n",
    "                if (informacion['ingreso_deudor']/10 > informacion['cantidad_prestamo']) or (informacion['ingreso_codeudor']/10>informacion['cantidad_prestamo']):\n",
    "                    resultado['aprobado'] = informacion['cantidad_prestamo'] < 180\n",
    "                else:\n",
    "                    resultado['aprobado'] = False                    \n",
    "            else:\n",
    "                resultado['aprobado'] = False\n",
    "        else:\n",
    "            if not(informacion['tipo_propiedad'] == \"Semiurbano\") and informacion['dependientes']<2:\n",
    "                if informacion['educacion'] == 'Graduado':\n",
    "                    resultado['aprobado'] = (informacion['ingreso_deudor']/11 > informacion['cantidad_prestamo']) and (informacion['ingreso_codeudor']/11 > informacion['cantidad_prestamo'])\n",
    "                else:\n",
    "                    resultado['aprobado'] = False\n",
    "            else:\n",
    "                resultado['aprobado'] = False  \n",
    "    \n",
    "    \n",
    "    return resultado"
   ]
  },
  {
   "cell_type": "code",
   "execution_count": 2,
   "metadata": {},
   "outputs": [
    {
     "ename": "SyntaxError",
     "evalue": "unexpected EOF while parsing (<ipython-input-2-3b94165b1d4d>, line 13)",
     "output_type": "error",
     "traceback": [
      "\u001b[0;36m  File \u001b[0;32m\"<ipython-input-2-3b94165b1d4d>\"\u001b[0;36m, line \u001b[0;32m13\u001b[0m\n\u001b[0;31m    'tipo_propiedad':'Urbano'\u001b[0m\n\u001b[0m                             ^\u001b[0m\n\u001b[0;31mSyntaxError\u001b[0m\u001b[0;31m:\u001b[0m unexpected EOF while parsing\n"
     ]
    }
   ],
   "source": [
    "### 1\n",
    "informacion = {\n",
    "    'id_prestamo':\"RETOS2_002\",\n",
    "    'casado': \"No\",\n",
    "    'dependientes':'3+',\n",
    "    'educacion': 'No Graduado',\n",
    "    'independiente': 'No',\n",
    "    'i_d':1830,\n",
    "    'i_c':0,\n",
    "    'c_p':100,\n",
    "    'p_p':360,\n",
    "    'historia_credito':0,\n",
    "    'tipo_propiedad':'Urbano'"
   ]
  },
  {
   "cell_type": "code",
   "execution_count": null,
   "metadata": {},
   "outputs": [],
   "source": [
    "prestamo(informacion)"
   ]
  },
  {
   "cell_type": "markdown",
   "metadata": {},
   "source": [
    "### 1\n",
    "informacion = {\n",
    "    'id_prestamo':\"RETOS2_001\",\n",
    "    'casado': \"No\",\n",
    "    'dependientes':1,\n",
    "    'educacion': 'Graduado',\n",
    "    'independiente': 'Si',\n",
    "    'i_d':4692,\n",
    "    'i_c':0,\n",
    "    'c_p':106,\n",
    "    'p_p':360,\n",
    "    'historia_credito':1,\n",
    "    'tipo_propiedad':'Rural'\n",
    "}\n",
    "\n",
    "### 2\n",
    "informacion = {\n",
    "    'id_prestamo':\"RETOS2_002\",\n",
    "    'casado': \"No\",\n",
    "    'dependientes':'3+',\n",
    "    'educacion': 'No Graduado',\n",
    "    'independiente': 'No',\n",
    "    'i_d':1830,\n",
    "    'i_c':0,\n",
    "    'c_p':100,\n",
    "    'p_p':360,\n",
    "    'historia_credito':0,\n",
    "    'tipo_propiedad':'Urbano'\n",
    "}\n",
    "### 3\n",
    "informacion = {\n",
    "    'id_prestamo':\"RETOS2_003\",\n",
    "    'casado': \"No\",\n",
    "    'dependientes':0,\n",
    "    'educacion': 'No Graduado',\n",
    "    'independiente': 'No',\n",
    "    'i_d':3748,\n",
    "    'i_c':1668,\n",
    "    'c_p':110,\n",
    "    'p_p':360,\n",
    "    'historia_credito':1,\n",
    "    'tipo_propiedad':'Semiurbano'\n",
    "}"
   ]
  },
  {
   "cell_type": "code",
   "execution_count": null,
   "metadata": {},
   "outputs": [],
   "source": [
    "+"
   ]
  },
  {
   "cell_type": "code",
   "execution_count": null,
   "metadata": {},
   "outputs": [],
   "source": [
    "a = 3+"
   ]
  },
  {
   "cell_type": "code",
   "execution_count": null,
   "metadata": {},
   "outputs": [],
   "source": []
  },
  {
   "cell_type": "code",
   "execution_count": null,
   "metadata": {},
   "outputs": [],
   "source": []
  }
 ],
 "metadata": {
  "kernelspec": {
   "display_name": "Python 3",
   "language": "python",
   "name": "python3"
  },
  "language_info": {
   "codemirror_mode": {
    "name": "ipython",
    "version": 3
   },
   "file_extension": ".py",
   "mimetype": "text/x-python",
   "name": "python",
   "nbconvert_exporter": "python",
   "pygments_lexer": "ipython3",
   "version": "3.8.3"
  }
 },
 "nbformat": 4,
 "nbformat_minor": 4
}
