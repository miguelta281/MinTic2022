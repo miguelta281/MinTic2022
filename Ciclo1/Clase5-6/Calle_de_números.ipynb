{
 "cells": [
  {
   "cell_type": "markdown",
   "metadata": {},
   "source": [
    "### Calle de números\n",
    "\n",
    "Una ingeniera vive en una calle con casas numeradas consecutivamente de izquierda a derecha (desde 1 hasta N, donde Nes el número total de casas en la calle). En la mañana saco su perro a pasear, caminando hacia la esquina izquierda de su calle y fue sumando sus números (direcciones) de las casas excluyendo la suya. En la tarde saco nuevamente el perro caminado hacia el lado derecho de su calle y de igual forma a sumado los números de las casas menos la suya. Para su sorpresa encontro que ambas suman eran iguales.\n",
    "\n",
    "Ha pasado el tiempo y la ingeniera desea mudarse a otra calle, por lo que ha exigido al agente inmobiliario que en su nueva calle se cumpla la condición anterior.  Desarrolle una función que dado un tamaño N de la calle, permita encontrar si en esta calle se cumple la condición, de ser así muestre el número de la casa o por lo contrario indique que no existe tal casa.\n",
    "\n",
    "\n",
    "La suma para la izquierda esta dada por  $\\frac{i (i -1)}{2}$, mientras que para la derecha esta dada por $\\frac{n(n+1)}{2} - \\frac{i(i+1)}{2}$ por tanto el número de la casa estara dado por \n",
    "$$ i = \\sqrt{\\frac{n(n+1)}{2}}$$"
   ]
  },
  {
   "cell_type": "code",
   "execution_count": 12,
   "metadata": {},
   "outputs": [
    {
     "name": "stdout",
     "output_type": "stream",
     "text": [
      "Ingrese el número de casas en la calle 9\n",
      "6.708203932499369\n",
      "No existe la casa\n"
     ]
    }
   ],
   "source": [
    "N = int(input(\"Ingrese el número de casas en la calle \"))\n",
    "i =str(((N*(N+1))/2) ** (1/2))\n",
    "if i[2] == \"0\": #No es la mejor condición, pero de momento sirve\n",
    "    print (\"La casa es la número \", i)\n",
    "else: \n",
    "    print(\"No existe la casa\")"
   ]
  }
 ],
 "metadata": {
  "kernelspec": {
   "display_name": "Python 3",
   "language": "python",
   "name": "python3"
  },
  "language_info": {
   "codemirror_mode": {
    "name": "ipython",
    "version": 3
   },
   "file_extension": ".py",
   "mimetype": "text/x-python",
   "name": "python",
   "nbconvert_exporter": "python",
   "pygments_lexer": "ipython3",
   "version": "3.7.3"
  }
 },
 "nbformat": 4,
 "nbformat_minor": 2
}
