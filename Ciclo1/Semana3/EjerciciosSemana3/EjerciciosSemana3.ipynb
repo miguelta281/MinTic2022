{
 "cells": [
  {
   "cell_type": "markdown",
   "metadata": {},
   "source": [
    "### Ejercicio 1\n",
    "Escribir un pograma que solicite ingresar 10  notas de alumnos y nos informe cuántos tienen notas mayores o iguales a 7 y cuántos menores"
   ]
  },
  {
   "cell_type": "code",
   "execution_count": 1,
   "metadata": {},
   "outputs": [],
   "source": [
    "def Notas ()->str:\n",
    "    menores = 0\n",
    "    mayores = 0\n",
    "    while (menores + mayores )<10:\n",
    "        nota = float(input(\"Ingrese la nota del estudiante\"))\n",
    "        if nota < 7:\n",
    "            menores += 1\n",
    "        else:\n",
    "            mayores += 1\n",
    "    resultado = \"De los 10 estudiantes {} tienen notas mayores de 7 y {} tienen notas menores que 7\".format(\n",
    "        mayores,menores)\n",
    "    return resultado\n",
    "    \n",
    "#Notas()"
   ]
  },
  {
   "cell_type": "markdown",
   "metadata": {},
   "source": [
    "### Ejercicio 2\n",
    "Se ingresan un conjunto de n alturas de personas por teclado. Mostrar la altura promedio de las personas"
   ]
  },
  {
   "cell_type": "code",
   "execution_count": 2,
   "metadata": {},
   "outputs": [],
   "source": [
    "def alturasPromedio ()->str:\n",
    "    try:\n",
    "        print (\"Ingrese un -1 para indicar que finalizo de ingresar los datos\")\n",
    "        altura = 0\n",
    "        alturas = []\n",
    "        while altura != -1:\n",
    "            altura = float(input(\"Ingrese la altura: \"))\n",
    "            if altura != -1:\n",
    "                alturas.append(altura)\n",
    "            else:\n",
    "                pass    \n",
    "\n",
    "        altura_promedio = sum(alturas) / len(alturas)\n",
    "\n",
    "        return \"La altura promedio es: \", altura_promedio\n",
    "    \n",
    "    except ValueError:\n",
    "            print(\"Rectifique los valores ingresados\")\n",
    "\n",
    "#print(alturasPromedio())"
   ]
  },
  {
   "cell_type": "markdown",
   "metadata": {},
   "source": [
    "### Ejercicio 3\n",
    "En una empresa trabajan n empleados cuyos sueldos oscilan entre $\\$100$ y $ \\$500$, realizar un programa que lea los suedos que cobra cada empleado e informe cuántos empleados cobran entre $ \\$100$ y $ \\$300$ y cuantos cobran más de  $\\$300$. Además el programa deberá informar el importe que gasta la empresa en sueldos al personal."
   ]
  },
  {
   "cell_type": "code",
   "execution_count": 3,
   "metadata": {},
   "outputs": [],
   "source": [
    "def Empresa ()->dict:\n",
    "    try:\n",
    "        resultado = {\"100-300\":0, \"+300\":0, \"GastoDeLaEmpresa\":0}\n",
    "        salario = 0\n",
    "        while salario != -1:\n",
    "            salario = float(input(\"Ingrese el salario del empleado: \"))\n",
    "            if salario == -1:\n",
    "                continue\n",
    "            else:\n",
    "                if (salario < 100 or salario > 500) and salario != -1:\n",
    "                    print(\"El salario esta fuera del rango\")\n",
    "                else:\n",
    "                    resultado[\"GastoDeLaEmpresa\"] = resultado[\"GastoDeLaEmpresa\"] + salario\n",
    "                    if salario > 300:\n",
    "                        resultado['+300'] += 1\n",
    "                    else:\n",
    "                        resultado['100-300'] += 1        \n",
    "        \n",
    "        return resultado\n",
    "       \n",
    "    except ValueError:\n",
    "            print(\"Rectifique los valores ingresados\")\n",
    "    \n",
    "    \n",
    "#print(Empresa())"
   ]
  },
  {
   "cell_type": "markdown",
   "metadata": {},
   "source": [
    "### Ejercicio 4\n",
    "Realiza un programa que imprima 25 términos de la seríe 11-22-33-44...(No se ingresan valores por teclado)"
   ]
  },
  {
   "cell_type": "code",
   "execution_count": 7,
   "metadata": {},
   "outputs": [],
   "source": [
    "def Serie1122():\n",
    "    numero = 0\n",
    "    count = 0\n",
    "    while count < 25:\n",
    "        count = count + 1\n",
    "        numero = numero + 11\n",
    "        print(numero)\n",
    "    \n",
    "#Serie1122()"
   ]
  },
  {
   "cell_type": "markdown",
   "metadata": {},
   "source": [
    "### Ejercicio 5\n",
    "Mostrar los múltiplos de 8 hasta el valor 500. Debe aparecer en pantalla 8-16-32...."
   ]
  },
  {
   "cell_type": "code",
   "execution_count": 10,
   "metadata": {},
   "outputs": [],
   "source": [
    "def multiplosDe8 ():\n",
    "    numero = 8\n",
    "    while numero < 500:\n",
    "        print(numero)\n",
    "        numero = numero + 8\n",
    "        \n",
    "#multiplosDe8()       "
   ]
  },
  {
   "cell_type": "markdown",
   "metadata": {},
   "source": [
    "### Ejercicio 6\n",
    "Realizar un programa que permita cargar dos listas de 15 valores cada una. Informar con un mensaje cuál de las dos listas tiene un valor acumulado mayor (mensajes: **Lista 1 mayor**, **Lista 2 mayor**, **Listas iguales**)\n",
    "\n",
    "Tener en cuenta que puede haber dos o más estructuras repetitivas en un algoritmo.\n"
   ]
  },
  {
   "cell_type": "code",
   "execution_count": 23,
   "metadata": {},
   "outputs": [
    {
     "data": {
      "text/plain": [
       "'Lista 1 mayor'"
      ]
     },
     "execution_count": 23,
     "metadata": {},
     "output_type": "execute_result"
    }
   ],
   "source": [
    "import random #Solo se importa para generar las listas (comodidad)\n",
    "def compararListas (lista1:list, lista2:int)->str:\n",
    "    acumulado1 = sum(lista1)\n",
    "    acumulado2 = sum(lista2)\n",
    "    if acumulado1 > acumulado2:\n",
    "        resultado = \"Lista 1 mayor\"\n",
    "    elif acumulado2 > acumulado1:\n",
    "        resultado = \"Lista 2 mayor\"\n",
    "    else: \n",
    "        resultado = \"Listas iguales\"\n",
    "        \n",
    "    return resultado\n",
    "\n",
    "a = [random.randint(0,1000) for _ in range (15)]\n",
    "\n",
    "b = [random.randint(0,1000) for _ in range (15)]\n",
    "\n",
    "compararListas(a,b)"
   ]
  },
  {
   "cell_type": "markdown",
   "metadata": {},
   "source": [
    "### Ejercicio 7\n",
    "Desarrollar un programa que permita cargar **n** números enteros y luego nos informe cuántos valores fueron pares y cuántos impares.\n",
    "\n",
    "Emplear el operador **%** en la condición de la esctructura condicional (este operador retorna el resto de la división de dos valores, por ejemplo **11%2**  retorna un 1):\n",
    "**if valor%2 == 0**"
   ]
  },
  {
   "cell_type": "code",
   "execution_count": 2,
   "metadata": {},
   "outputs": [
    {
     "name": "stdout",
     "output_type": "stream",
     "text": [
      "Ingrese un -1 para indicar que finalizo de ingresar los datos\n",
      "Ingrese el número:  4\n",
      "Ingrese el número:  5\n",
      "Ingrese el número:  3\n",
      "Ingrese el número:  2\n",
      "Ingrese el número:  4\n",
      "Ingrese el número:  -1\n",
      "De los 6 números, 3 son pares y 3 son impares\n"
     ]
    }
   ],
   "source": [
    "def ContadorDePares ()->str:\n",
    "    try:\n",
    "        print (\"Ingrese un -1 para indicar que finalizo de ingresar los datos\")\n",
    "        \n",
    "        numero = 0\n",
    "        pares = 0\n",
    "        impares = 0\n",
    "        while numero != -1:\n",
    "            numero = int(input(\"Ingrese el número:  \"))\n",
    "            if numero % 2 == 0:\n",
    "                pares = pares + 1\n",
    "            else:\n",
    "                impares = impares + 1\n",
    "        \n",
    "        return 'De los {} números, {} son pares y {} son impares'.format(pares + impares, pares, impares)\n",
    "    except ValueError:\n",
    "            print(\"Rectifique los valores ingresados\")\n",
    "        \n",
    "    \n",
    "#print(ContadorDePares())"
   ]
  },
  {
   "cell_type": "markdown",
   "metadata": {},
   "source": [
    "### Ejercicio 8\n",
    "Confeccionar un programa que lea **n** pares de datos, cada para de datos corresponde a la medida de la base y la altura de un triángulo. El programa deberá informar:\n",
    "* De cada triángulo la medida de su base, su altura y su superficie.\n",
    "* La cantidad de triángulos cuya superficie es mayor a 12."
   ]
  },
  {
   "cell_type": "code",
   "execution_count": 6,
   "metadata": {},
   "outputs": [
    {
     "data": {
      "text/plain": [
       "{'Triangulos': [{'triangulo 1': {'base': 1, 'altura': 4, 'superficie': 2.0}},\n",
       "  {'triangulo 2': {'base': 6, 'altura': 7, 'superficie': 21.0}},\n",
       "  {'triangulo 3': {'base': 10, 'altura': 4, 'superficie': 20.0}}],\n",
       " 'Superficie > 12': 2}"
      ]
     },
     "execution_count": 6,
     "metadata": {},
     "output_type": "execute_result"
    }
   ],
   "source": [
    "def Triangulo (datos:list)->dict:\n",
    "    \n",
    "    resultado1 = []\n",
    "    triangulo_mayor12 = 0\n",
    "    for i in range(len(datos)):\n",
    "        superficie = (datos[i][0] * datos[i][1]) / 2\n",
    "        triangulo = {\"triangulo \" + str(i+1): {\"base\":datos[i][0],\"altura\":datos[i][1],\"superficie\":superficie}}\n",
    "        resultado1.append(triangulo)\n",
    "        if superficie > 12:\n",
    "            triangulo_mayor12 += 1\n",
    "            \n",
    "        else:\n",
    "            continue\n",
    "        \n",
    "            \n",
    "    resultado = {\"Triangulos\":resultado1, \"Superficie > 12\":triangulo_mayor12}\n",
    "    return resultado\n",
    "\n",
    "a = [(1,4),(6,7),(10,4)]\n",
    "\n",
    "Triangulo(a)\n",
    "    \n",
    "        \n",
    "    \n",
    "    \n",
    "    "
   ]
  },
  {
   "cell_type": "markdown",
   "metadata": {},
   "source": [
    "### Ejercicio 9\n",
    "Desarrollar un programa que solicite la carga de 10 número e imprima la suma de los últimos 5 valores ingresos."
   ]
  },
  {
   "cell_type": "code",
   "execution_count": 13,
   "metadata": {},
   "outputs": [
    {
     "name": "stdout",
     "output_type": "stream",
     "text": [
      "Ingrese el número-1\n",
      "Ingrese el númerol\n",
      "Recuerda que son números\n"
     ]
    }
   ],
   "source": [
    "def SumaUltimos ()->float:\n",
    "    try:\n",
    "        lista = []\n",
    "        for i in range(10):\n",
    "            numero = float(input(\"Ingrese el número\"))\n",
    "            lista.append(numero)\n",
    "        return sum(lista[5:])\n",
    "    except ValueError:\n",
    "        print(\"Recuerda que son números\")\n",
    "        \n",
    "#SumaUltimos()"
   ]
  },
  {
   "cell_type": "markdown",
   "metadata": {},
   "source": [
    "### Ejercicio 10\n",
    "Desarrollar un programa que muestre la tabla de multiplicar del 5 (del 5 al 50)"
   ]
  },
  {
   "cell_type": "code",
   "execution_count": 17,
   "metadata": {},
   "outputs": [
    {
     "name": "stdout",
     "output_type": "stream",
     "text": [
      "5*1 = 5\n",
      "5*2 = 10\n",
      "5*3 = 15\n",
      "5*4 = 20\n",
      "5*5 = 25\n",
      "5*6 = 30\n",
      "5*7 = 35\n",
      "5*8 = 40\n",
      "5*9 = 45\n",
      "5*10 = 50\n"
     ]
    }
   ],
   "source": [
    "def TablaDel5 ():\n",
    "    for i in range(1,11):\n",
    "        print(\"5*\" + str(i) + \" = \" + str(5 * i))\n",
    "\n",
    "TablaDel5()"
   ]
  },
  {
   "cell_type": "markdown",
   "metadata": {},
   "source": [
    "### Ejercicio 11\n",
    "Confeccionar un programa que permita ingresar un valor de 1 al 10 y nos muestre la tabla de multiplicar del mismo (los primeros 12 términos)\n",
    "\n",
    "Ejemplo: Si ingreso 3 deberá aparecer en pantalla los valores 3,6,9, hasta el 36."
   ]
  },
  {
   "cell_type": "code",
   "execution_count": 22,
   "metadata": {},
   "outputs": [
    {
     "name": "stdout",
     "output_type": "stream",
     "text": [
      "Ingrese un número entre 1-103\n",
      "3*1 = 3\n",
      "3*2 = 6\n",
      "3*3 = 9\n",
      "3*4 = 12\n",
      "3*5 = 15\n",
      "3*6 = 18\n",
      "3*7 = 21\n",
      "3*8 = 24\n",
      "3*9 = 27\n",
      "3*10 = 30\n",
      "3*11 = 33\n",
      "3*12 = 36\n"
     ]
    }
   ],
   "source": [
    "def Tablas ():\n",
    "    numero = int(input(\"Ingrese un número entre 1-10\"))\n",
    "    if 1 < numero < 10:\n",
    "        for i in range(1,13):\n",
    "            print(str(numero) + \"*\" + str(i) + \" = \" + str(numero * i))\n",
    "    else:\n",
    "        print(\"Recuerda que el número debe estar entre 1-10\")\n",
    "\n",
    "Tablas()"
   ]
  },
  {
   "cell_type": "markdown",
   "metadata": {},
   "source": [
    "### Ejercicio 12\n",
    "Realizar un programa que lea los lados de n tringulos, e informar \n",
    "* De cada uno de ellos, que tipo de triángulo es: equílatero (tres lados iguales), isóceles (dos lados iguales), o escaleno (ningún lado igual)\n",
    "* Cantidad de tríangulos de cada tipo"
   ]
  },
  {
   "cell_type": "code",
   "execution_count": 31,
   "metadata": {},
   "outputs": [
    {
     "data": {
      "text/plain": [
       "{'Triangulos': [('Triangulo 0', 'Isóceles'),\n",
       "  ('Triangulo 1', 'Isóceles'),\n",
       "  ('Triangulo 2', 'Escaleno')],\n",
       " 'Equílatero': 0,\n",
       " 'Isóceles': 2,\n",
       " 'Escaleno': 1}"
      ]
     },
     "execution_count": 31,
     "metadata": {},
     "output_type": "execute_result"
    }
   ],
   "source": [
    "def LadosTriangulos (lados:list)->dict:\n",
    "    lista = []\n",
    "    eq = 0\n",
    "    iso = 0\n",
    "    esc = 0\n",
    "    \n",
    "    for i in range(len(lados)):\n",
    "        if lados[i].count(lados[i][0]) == 3:\n",
    "            resultado = \"Equílatero\"\n",
    "            eq += 1\n",
    "        elif lados[i].count(lados[i][0]) == 2 or lados[i].count(lados[i][1]) == 2:\n",
    "            resultado = \"Isóceles\"\n",
    "            iso += 1\n",
    "        else:\n",
    "            resultado = \"Escaleno\"\n",
    "            esc += 1\n",
    "    \n",
    "        resultado1 = (\"Triangulo \" + str(i), resultado)\n",
    "        lista.append(resultado1)\n",
    "    \n",
    "    ResultadoFinal = {\"Triangulos\":lista,\"Equílatero\":eq,\"Isóceles\":iso,\"Escaleno\":esc}\n",
    "\n",
    "    return ResultadoFinal\n",
    "a = [(1,1,2), (1,2,2),(1,2,3)]\n",
    "\n",
    "LadosTriangulos(a)"
   ]
  },
  {
   "cell_type": "markdown",
   "metadata": {},
   "source": [
    "### Ejercicio 13\n",
    "Escribir un programa que pida ingresar coordenadas (x,y), que representan puntos en el plano."
   ]
  },
  {
   "cell_type": "code",
   "execution_count": 46,
   "metadata": {},
   "outputs": [
    {
     "name": "stdout",
     "output_type": "stream",
     "text": [
      "Ingrese un 0 para ingresar otra coordenda o -1 para finalizar\n",
      "Ingrese la coordenada1\n",
      "Ingrese la coordenada2\n",
      "Desea ingresar una nueva coordenada0\n",
      "Ingrese la coordenada1\n",
      "Ingrese la coordenada2\n",
      "Desea ingresar una nueva coordenada-1\n"
     ]
    },
    {
     "data": {
      "text/plain": [
       "[(1.0, 2.0), (1.0, 2.0)]"
      ]
     },
     "execution_count": 46,
     "metadata": {},
     "output_type": "execute_result"
    }
   ],
   "source": [
    "def Coordenadas ()->list:\n",
    "    try:\n",
    "        print (\"Ingrese un 0 para ingresar otra coordenda o -1 para finalizar\")\n",
    "        coordenadas = []\n",
    "        nueva = 0\n",
    "        while nueva != -1:\n",
    "            pareja = []\n",
    "            for i in range(2):\n",
    "                pareja.append(float(input(\"Ingrese la coordenada\")))\n",
    "            nueva = int(input(\"Desea ingresar una nueva coordenada\"))\n",
    "            coordenadas.append(tuple(pareja))\n",
    "        \n",
    "        return coordenadas\n",
    "    except ValueError:\n",
    "        print(\"Rectifique los valores ingresados\")\n",
    "        \n",
    "Coordenadas()"
   ]
  },
  {
   "cell_type": "code",
   "execution_count": null,
   "metadata": {},
   "outputs": [],
   "source": []
  }
 ],
 "metadata": {
  "kernelspec": {
   "display_name": "Python 3",
   "language": "python",
   "name": "python3"
  },
  "language_info": {
   "codemirror_mode": {
    "name": "ipython",
    "version": 3
   },
   "file_extension": ".py",
   "mimetype": "text/x-python",
   "name": "python",
   "nbconvert_exporter": "python",
   "pygments_lexer": "ipython3",
   "version": "3.8.3"
  }
 },
 "nbformat": 4,
 "nbformat_minor": 4
}
