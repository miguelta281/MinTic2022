{
 "cells": [
  {
   "cell_type": "markdown",
   "metadata": {},
   "source": [
    "distancias = {('H', 'H'): 0, ('H', 'A'): 21, ('H', 'B'): 57, ('H', 'C'): 58, ('H', 'D'): 195, ('H', 'E'): 245, ('H', 'F'): 241,\n",
    "('A', 'H'): 127, ('A', 'A'): 0, ('A', 'B'): 231, ('A', 'C'): 113, ('A', 'D'): 254, ('A', 'E'): 179, ('A', 'F'): 41,\n",
    "('B', 'H'): 153, ('B', 'A'): 252, ('B', 'B'): 0, ('B', 'C'): 56, ('B', 'D'): 126, ('B', 'E'): 160, ('B', 'F'): 269,\n",
    "('C', 'H'): 196, ('C', 'A'): 128, ('C', 'B'): 80, ('C', 'C'): 0, ('C', 'D'): 136, ('C', 'E'): 37, ('C', 'F'): 180,\n",
    "('D', 'H'): 30, ('D', 'A'): 40, ('D', 'B'): 256, ('D', 'C'): 121, ('D', 'D'): 0, ('D', 'E'): 194, ('D', 'F'): 109,\n",
    "('E', 'H'): 33, ('E', 'A'): 144, ('E', 'B'): 179, ('E', 'C'): 114, ('E', 'D'): 237, ('E', 'E'): 0, ('E', 'F'): 119,\n",
    "('F', 'H'): 267, ('F', 'A'): 61, ('F', 'B'): 79, ('F', 'C'): 39, ('F', 'D'): 135, ('F', 'E'): 55, ('F', 'F'): 0}\n",
    "ruta_inicial = ['H', 'A', 'B', 'C', 'D', 'E', 'F', 'H']"
   ]
  },
  {
   "cell_type": "code",
   "execution_count": 1,
   "metadata": {},
   "outputs": [],
   "source": [
    "distancias = {('H', 'H'): 0, ('H', 'A'): 60, ('H', 'B'): 202, ('H', 'C'): 206, ('H', 'D'): 40, ('H', 'E'): 27,\n",
    "('A', 'H'): 72, ('A', 'A'): 0, ('A', 'B'): 135, ('A', 'C'): 150, ('A', 'D'): 240, ('A', 'E'): 117,\n",
    "('B', 'H'): 188, ('B', 'A'): 166, ('B', 'B'): 0, ('B', 'C'): 149, ('B', 'D'): 126, ('B', 'E'): 199,\n",
    "('C', 'H'): 39, ('C', 'A'): 19, ('C', 'B'): 123, ('C', 'C'): 0, ('C', 'D'): 206, ('C', 'E'): 19,\n",
    "('D', 'H'): 45, ('D', 'A'): 14, ('D', 'B'): 110, ('D', 'C'): 95, ('D', 'D'): 0, ('D', 'E'): 31,\n",
    "('E', 'H'): 36, ('E', 'A'): 179, ('E', 'B'): 235, ('E', 'C'): 106, ('E', 'D'): 25, ('E', 'E'): 0}\n",
    "ruta_inicial = ['H', 'B', 'E', 'A', 'C', 'D', 'H']"
   ]
  },
  {
   "cell_type": "code",
   "execution_count": 2,
   "metadata": {},
   "outputs": [],
   "source": [
    "def ruteo(distancias:dict, ruta_inicial: list)->dict:\n",
    "    valores = list(distancias.values())\n",
    "    if (min(valores) < 0) or (valores[::len(ruta_inicial)].count(0) != (len(ruta_inicial)-1)):\n",
    "        return \"Por favor revisar los datos de entrada.\"\n",
    "    else:\n",
    "        distancia = []\n",
    "        for i in range(len(ruta_inicial)-1):\n",
    "            distancia.append(distancias[(ruta_inicial[i],ruta_inicial[i+1])])         \n",
    "        mejor_distancia = sum(distancia)\n",
    "\n",
    "        mejoro = True\n",
    "        ruta_actual = ruta_inicial.copy()\n",
    "        while mejoro == True:\n",
    "            recorrido = mejor_distancia\n",
    "            for i in range(1,len(ruta_actual)-1):\n",
    "                for j in range(i+1,len(ruta_actual)-1):\n",
    "                    ruta_intercambiada = ruta_actual.copy()\n",
    "                    ruta_intercambiada[i] = ruta_actual[j]\n",
    "                    ruta_intercambiada[j] = ruta_actual[i]\n",
    "\n",
    "                    distanciaIntercambiada = []\n",
    "                    for k in range(len(ruta_intercambiada)-1):\n",
    "                        distanciaIntercambiada.append(distancias[(ruta_intercambiada[k],ruta_intercambiada[k+1])])         \n",
    "                    distanica_intercambiada = sum(distanciaIntercambiada)\n",
    "                    pareja = (ruta_inicial[i],ruta_inicial[j])\n",
    "\n",
    "                    if distanica_intercambiada < recorrido:\n",
    "                        recorrido = distanica_intercambiada\n",
    "                        mejor_ruta_interacion = ruta_intercambiada\n",
    "                    else: \n",
    "                        continue\n",
    "\n",
    "            mejoro = recorrido < mejor_distancia\n",
    "            ruta_actual = mejor_ruta_interacion    \n",
    "            mejor_distancia = recorrido\n",
    "        rutta  =\"\"\n",
    "        for i in range(len(ruta_actual)):\n",
    "            if i == 0 :\n",
    "                rutta = rutta + ruta_actual[i]\n",
    "            else:\n",
    "                rutta = rutta + '-' + ruta_actual[i]\n",
    "        \n",
    "        dic = {'ruta':rutta, 'distancia':mejor_distancia}\n",
    "            \n",
    "        return dic"
   ]
  },
  {
   "cell_type": "code",
   "execution_count": 3,
   "metadata": {},
   "outputs": [
    {
     "name": "stdout",
     "output_type": "stream",
     "text": [
      "{'ruta': 'H-D-A-B-C-E-H', 'distancia': 393}\n"
     ]
    }
   ],
   "source": [
    "print(ruteo(distancias,ruta_inicial))"
   ]
  }
 ],
 "metadata": {
  "kernelspec": {
   "display_name": "Python 3",
   "language": "python",
   "name": "python3"
  },
  "language_info": {
   "codemirror_mode": {
    "name": "ipython",
    "version": 3
   },
   "file_extension": ".py",
   "mimetype": "text/x-python",
   "name": "python",
   "nbconvert_exporter": "python",
   "pygments_lexer": "ipython3",
   "version": "3.8.3"
  }
 },
 "nbformat": 4,
 "nbformat_minor": 4
}
