{
 "cells": [
  {
   "cell_type": "code",
   "execution_count": 17,
   "metadata": {},
   "outputs": [],
   "source": [
    "# Importar las librerias\n",
    "import pandas as pd \n",
    "import matplotlib.pyplot as plt"
   ]
  },
  {
   "cell_type": "code",
   "execution_count": 13,
   "metadata": {},
   "outputs": [],
   "source": [
    "# Cargar los datos \n",
    "data = pd.read_csv('Casos_positivos_de_COVID-19_en_ColombiaDiezMil.csv')\n",
    "#print(data.head()) #Muestra los 5 primeros datos del archivo\n",
    "#print(data.tail()) #Muestra los ultimos datos del archivo\n",
    "\n",
    "#Muestrar los datos\n",
    "#muestra =  data.sample(10)\n",
    "\n",
    "# Muestra la información del archivo\n",
    "#print(data.info())\n",
    "\n",
    "#Muestra datos descriptores (rapidamente)\n",
    "#print(data.describe())"
   ]
  },
  {
   "cell_type": "code",
   "execution_count": 21,
   "metadata": {},
   "outputs": [
    {
     "data": {
      "text/plain": [
       "<matplotlib.axes._subplots.AxesSubplot at 0x1c47c707970>"
      ]
     },
     "execution_count": 21,
     "metadata": {},
     "output_type": "execute_result"
    },
    {
     "data": {
      "image/png": "[encoded data removed]",
      "text/plain": [
       "<Figure size 432x288 with 1 Axes>"
      ]
     },
     "metadata": {
      "needs_background": "light"
     },
     "output_type": "display_data"
    }
   ],
   "source": [
    "#Extraer una columna\n",
    "SeriesEdades = data.Edad\n",
    "\n",
    "#Contar repeticiones (personas por edad)\n",
    "SeriesEdades.value_counts().plot(kind = 'bar') #Agregar el .plot() para mostrar las gráficas (visualizar rapidamente)"
   ]
  },
  {
   "cell_type": "code",
   "execution_count": null,
   "metadata": {},
   "outputs": [],
   "source": []
  },
  {
   "cell_type": "code",
   "execution_count": null,
   "metadata": {},
   "outputs": [],
   "source": []
  }
 ],
 "metadata": {
  "kernelspec": {
   "display_name": "Python 3",
   "language": "python",
   "name": "python3"
  },
  "language_info": {
   "codemirror_mode": {
    "name": "ipython",
    "version": 3
   },
   "file_extension": ".py",
   "mimetype": "text/x-python",
   "name": "python",
   "nbconvert_exporter": "python",
   "pygments_lexer": "ipython3",
   "version": "3.8.3"
  }
 },
 "nbformat": 4,
 "nbformat_minor": 4
}
