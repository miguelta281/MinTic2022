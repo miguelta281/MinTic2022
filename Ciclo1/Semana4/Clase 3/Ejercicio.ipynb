{
 "cells": [
  {
   "cell_type": "markdown",
   "metadata": {},
   "source": [
    "# Ejercicios\n",
    "## Descripción general del problema\n",
    "\n",
    "Recopilamos los registros de los vuelos que ocurrieron durante un día entre aeropuertos ubicados en Colombia y los organizamos en una lista de diccionarios. Ahora queremos que usted nos ayude a identificar: \n",
    "\n",
    "1. la aerolinea con mas vuelos durante el dia.\n",
    "\n",
    "2. el avion con mas vuelos durante el dia.\n",
    "\n",
    "3. la ciudad con mas vuelos (salidas o llegadas) durante el dia. \n",
    "\n",
    "4. el avion con mayor uso durante el dia.\n",
    "\n",
    "5. la duracion promedio de los vuelos para cada aeropuerto.\n",
    "\n",
    "6. itinerarios posibles entre un aeropuerto de origen y destino (unicamente vuelos directos).\n",
    "\n",
    "\n",
    "El parámetro vuelos de la función es una lista de diccionarios con la información de los vuelos.\n",
    "\n",
    "Los valores en la lista no necesariamente estan ordenados. \n",
    "\n",
    "Los valores en esta lista son diccionarios con la información de un vuelo organizado de acuerdo a las siguientes llaves:\n",
    "\n",
    "aerolínea, que corresponde al nombre de la aerolínea.\n",
    "\n",
    "codigo, que corresponde al identificador unico del avion.\n",
    "\n",
    "origen, que corresponde al código de aeropuerto de origen.\n",
    "\n",
    "destino, que corresponde al aeropuerto destino del vuelo.\n",
    "\n",
    "distancia, que corresponde a la distancia entre el origen y el destino.\n",
    "\n",
    "retraso, que corresponde a la cantidad de minutos de retraso que tuvo el vuelo.\n",
    "\n",
    "duracion, que corresponde a la duración planeada del vuelo en minutos.\n",
    "\n",
    "salida, que corresponde a un entero que representa la hora de salida.\n",
    "\n",
    "La hora de salida se representa usando la hora en formato 24 horas multiplicada por 100 más la cantidad de minutos (por ejemplo, las 2007 indica que el vuelo salió a las 8:07 pm).\n",
    "\n",
    "## Funciones requeridas\n",
    "\n",
    "Su solución debe tener una función de acuerdo a la siguientes especificaciones. Usted puede tener funciones adicionales.\n",
    "\n",
    "*Nombre de la función:*\taerolinea_con_vuelos\n",
    "\n",
    "Parámetros\n",
    "\n",
    "Nombre |\tTipo|\tDescripción\n",
    "---- | ---- | ----\n",
    "vuelos | list | Es una lista de diccionarios con la información de los vuelos.\n",
    "\n",
    "Tipo del retorno|\tDescipción del retorno\n",
    "----|----\n",
    "tuple|\tnombre de la aerolinea con mas vuelos durante el dia (salida o entrada) y numero de vuelos en el dia."
   ]
  },
  {
   "cell_type": "code",
   "execution_count": 1,
   "metadata": {},
   "outputs": [],
   "source": [
    "vuelosEjemplo = [{\"aerolinea\": \"AVIANCA\", 'codigo': \"AHF21\", \"origen\": \"BOG\", \"destino\": \"CTG\", \"distancia\": 295, \"retraso\": 5, \"duracion\": 120, \"salida\":600},\n",
    "                 {\"aerolinea\": \"VIVAAIR\", 'codigo': \"VVE01\", \"origen\": \"BOG\", \"destino\": \"CTG\", \"distancia\": 295, \"retraso\": 2, \"duracion\": 115, \"salida\":555},\n",
    "                 {\"aerolinea\": \"AVIANCA\", 'codigo': \"AHF21\", \"origen\": \"CTG\", \"destino\": \"BOG\", \"distancia\": 295, \"retraso\": 15, \"duracion\": 120, \"salida\":830},\n",
    "                 {\"aerolinea\": \"VIVAAIR\", 'codigo': \"VVE01\", \"origen\": \"CTG\", \"destino\": \"PEI\", \"distancia\": 325, \"retraso\": 5, \"duracion\": 135, \"salida\":800},\n",
    "                 {\"aerolinea\": \"AVIANCA\", 'codigo': \"AHF23\", \"origen\": \"BOG\", \"destino\": \"CLO\", \"distancia\": 255, \"retraso\": 25, \"duracion\": 170, \"salida\":605},\n",
    "                 {\"aerolinea\": \"VIVAAIR\", 'codigo': \"VVE01\", \"origen\": \"PEI\", \"destino\": \"BOG\", \"distancia\": 220, \"retraso\": 5, \"duracion\": 60, \"salida\":1030},\n",
    "                 {\"aerolinea\": \"AVIANCA\", 'codigo': \"AHF23\", \"origen\": \"CLO\", \"destino\": \"CTG\", \"distancia\": 400, \"retraso\": 20, \"duracion\": 160, \"salida\":1200}]\n"
   ]
  },
  {
   "cell_type": "code",
   "execution_count": 2,
   "metadata": {},
   "outputs": [
    {
     "data": {
      "text/plain": [
       "('AVIANCA', 4)"
      ]
     },
     "execution_count": 2,
     "metadata": {},
     "output_type": "execute_result"
    }
   ],
   "source": [
    "def aerolinea_con_vuelo (vuelos:list)->tuple:\n",
    "    aerolineas = set(vuelos[vuelo]['aerolinea'] for vuelo in range(len(vuelos)))\n",
    "\n",
    "    VuelosEmpresa = {empresa: 0 for empresa in aerolineas}\n",
    "    mayorApariciones = -1\n",
    "\n",
    "    for empresa in aerolineas:\n",
    "        fo\n",
    "        r vuelo in vuelos:\n",
    "            if empresa == vuelo['aerolinea']:\n",
    "                VuelosEmpresa[empresa] = VuelosEmpresa[empresa] + 1\n",
    "\n",
    "            if VuelosEmpresa[empresa]> mayorApariciones:\n",
    "                mayorApariciones = VuelosEmpresa[empresa]\n",
    "                AerolineaMayorApariciones = empresa\n",
    "                \n",
    "    miTupla = (AerolineaMayorApariciones, VuelosEmpresa[AerolineaMayorApariciones])\n",
    "    return miTupla\n",
    "\n",
    "aerolinea_con_vuelo(vuelosEjemplo)"
   ]
  },
  {
   "cell_type": "markdown",
   "metadata": {},
   "source": [
    "*Nombre de la función:*\tavion_con_vuelos\n",
    "\n",
    "Parámetros\n",
    "\n",
    "Nombre |\tTipo|\tDescripción\n",
    "---- | ---- | ----\n",
    "vuelos | list | Es una lista de diccionarios con la información de los vuelos.\n",
    "\n",
    "Tipo del retorno|\tDescipción del retorno\n",
    "----|----\n",
    "tuple|\tCodigo del avion con mas vuelos durante el dia y numero de vuelos."
   ]
  },
  {
   "cell_type": "code",
   "execution_count": 7,
   "metadata": {},
   "outputs": [
    {
     "data": {
      "text/plain": [
       "('VVE01', 3)"
      ]
     },
     "execution_count": 7,
     "metadata": {},
     "output_type": "execute_result"
    }
   ],
   "source": [
    "def avion_con_vuelos (vuelos:list)->tuple:\n",
    "    aviones = set(vuelos[vuelo]['codigo'] for vuelo in range(len(vuelos)))\n",
    "    \n",
    "    miDiccionario = {empresa: 0 for empresa in aviones}\n",
    "    \n",
    "    #realizar el conteo de apariciones de cada avion en el listado de vuelos\n",
    "    mayorAviones=-1\n",
    "    for avion in aviones:\n",
    "        for vuelo in vuelosEjemplo:\n",
    "            if avion == vuelo[\"codigo\"]:\n",
    "                miDiccionario[avion] = miDiccionario[avion] + 1\n",
    "            #aprovechar los fors para encontrar el avion con mayor apariciones\n",
    "            if miDiccionario[avion]>mayorAviones:\n",
    "                mayorAviones = miDiccionario[avion]\n",
    "                avionConMasVuelos = avion\n",
    "\n",
    "    # preparacion de la tupla de salida\n",
    "    miTupla=(avionConMasVuelos,miDiccionario[avionConMasVuelos])\n",
    "    \n",
    "    return miTupla\n",
    "    \n",
    "    \n",
    "avion_con_vuelos(vuelosEjemplo)\n"
   ]
  },
  {
   "cell_type": "code",
   "execution_count": null,
   "metadata": {},
   "outputs": [],
   "source": []
  }
 ],
 "metadata": {
  "kernelspec": {
   "display_name": "Python 3",
   "language": "python",
   "name": "python3"
  },
  "language_info": {
   "codemirror_mode": {
    "name": "ipython",
    "version": 3
   },
   "file_extension": ".py",
   "mimetype": "text/x-python",
   "name": "python",
   "nbconvert_exporter": "python",
   "pygments_lexer": "ipython3",
   "version": "3.8.3"
  }
 },
 "nbformat": 4,
 "nbformat_minor": 4
}
