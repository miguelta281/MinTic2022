{
 "cells": [
  {
   "cell_type": "markdown",
   "metadata": {},
   "source": [
    "Replique el código que se hizo paso a paso (Unicamente para practicar)"
   ]
  },
  {
   "cell_type": "code",
   "execution_count": 1,
   "metadata": {},
   "outputs": [],
   "source": [
    "import numpy as np\n",
    "def displayInicialTriqui ():\n",
    "        for i in range(3):\n",
    "            for j in range(3):\n",
    "                print('|_', end = '')\n",
    "            print('|')\n",
    "            \n",
    "def displayTriqui(matriz):\n",
    "    for i in range(3):\n",
    "        for j in range(3):\n",
    "            if matriz[i,j] == 1:\n",
    "                 print('|o', end = '')\n",
    "            else:\n",
    "                if matriz[i,j] == 10:\n",
    "                    print('|x', end = '')\n",
    "                else:\n",
    "                    print('|_',end = '')\n",
    "        print('|')\n",
    "        \n",
    "def estadoDelJuego(matriz)->int:\n",
    "    \"\"\"\n",
    "    Returns:\n",
    "    1 -> gana x\n",
    "    2 -> gana o\n",
    "    3 -> no hay ganador\n",
    "    4 -> se puede seguir jugando\n",
    "    \"\"\"\n",
    "    \n",
    "    if 3 in np.sum(matriz,axis = 0) or 3 in np.sum(matriz,axis=1) or np.sum(np.diagonal(matriz)) == 3 or np.sum(np.diagonal(np.fliplr(matriz))) == 3:\n",
    "        salida = 1\n",
    "    else:\n",
    "        if 30 in np.sum(matriz,axis = 0) or 30 in np.sum(matriz,axis=1) or np.sum(np.diagonal(matriz)) == 30 or np.sum(np.diagonal(np.fliplr(matriz))) == 30:\n",
    "            salida = 2\n",
    "        else:\n",
    "            if np.sum(matriz) == 45 or np.sum(matriz) == 54:\n",
    "                salida = 3\n",
    "            else:\n",
    "                salida = 4\n",
    "    return salida\n",
    "                                                                                                                     \n",
    "def Triqui ():\n",
    "    displayInicialTriqui()\n",
    "    turno = True\n",
    "    if np.random.rand()>0.5:\n",
    "        turno = False\n",
    "    matriz = np.zeros((3,3))\n",
    "    estado = 4\n",
    "    while (estado == 4):\n",
    "        casilla = input(\"Ingrese la casilla a jugar, ej: la casilla superior derecha es (1,3) \")\n",
    "\n",
    "        x = int(casilla[0]) - 1 \n",
    "        y = int(casilla[2]) - 1\n",
    "        \n",
    "        if 0<=x<=2 and 0<=y<=2:\n",
    "            if matriz[x,y] == 0:\n",
    "                if turno:\n",
    "                    matriz[x,y] = 1\n",
    "                else:\n",
    "                    matriz[x,y] = 10\n",
    "                estado = estadoDelJuego(matriz)\n",
    "                displayTriqui(matriz)\n",
    "                turno = not(turno)\n",
    "            else:\n",
    "                print('Debe jugar en casillas vacias!')\n",
    "        else:\n",
    "            print('Recuerda que el tablero es de 3 por 3! ej: la casilla inferior izquierda es (3,1)')\n",
    "    if estado == 1:\n",
    "        print(\"El jugador o ha ganado\")\n",
    "    else:\n",
    "        if estado == 2:\n",
    "            print(\"El jugador x ha ganado\")\n",
    "        else:\n",
    "            print(\"no hubo ganadores\")"
   ]
  },
  {
   "cell_type": "code",
   "execution_count": null,
   "metadata": {
    "scrolled": true
   },
   "outputs": [
    {
     "name": "stdout",
     "output_type": "stream",
     "text": [
      "|_|_|_|\n",
      "|_|_|_|\n",
      "|_|_|_|\n",
      "Ingrese la casilla a jugar, ej: la casilla superior derecha es (1,3) 1,1\n",
      "|x|_|_|\n",
      "|_|_|_|\n",
      "|_|_|_|\n"
     ]
    }
   ],
   "source": [
    "Triqui()"
   ]
  },
  {
   "cell_type": "code",
   "execution_count": null,
   "metadata": {},
   "outputs": [],
   "source": []
  }
 ],
 "metadata": {
  "kernelspec": {
   "display_name": "Python 3",
   "language": "python",
   "name": "python3"
  },
  "language_info": {
   "codemirror_mode": {
    "name": "ipython",
    "version": 3
   },
   "file_extension": ".py",
   "mimetype": "text/x-python",
   "name": "python",
   "nbconvert_exporter": "python",
   "pygments_lexer": "ipython3",
   "version": "3.8.3"
  }
 },
 "nbformat": 4,
 "nbformat_minor": 4
}
