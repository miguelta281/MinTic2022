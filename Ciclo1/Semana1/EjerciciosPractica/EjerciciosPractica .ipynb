{
 "cells": [
  {
   "cell_type": "code",
   "execution_count": 1,
   "metadata": {},
   "outputs": [],
   "source": [
    "import math"
   ]
  },
  {
   "cell_type": "markdown",
   "metadata": {},
   "source": [
    "### Ejercicio 1\n",
    "Leer un número entero y convertirlo a float."
   ]
  },
  {
   "cell_type": "code",
   "execution_count": 2,
   "metadata": {},
   "outputs": [
    {
     "name": "stdout",
     "output_type": "stream",
     "text": [
      "Ingrese un número entero: 3\n"
     ]
    },
    {
     "data": {
      "text/plain": [
       "float"
      ]
     },
     "execution_count": 2,
     "metadata": {},
     "output_type": "execute_result"
    }
   ],
   "source": [
    "num = float(input(\"Ingrese un número entero: \"))\n",
    "type(num)"
   ]
  },
  {
   "cell_type": "markdown",
   "metadata": {},
   "source": [
    "### Ejercicio 2\n",
    "Leer un número real y determinar su parte entera."
   ]
  },
  {
   "cell_type": "code",
   "execution_count": 3,
   "metadata": {},
   "outputs": [
    {
     "name": "stdout",
     "output_type": "stream",
     "text": [
      "Ingrese un número real: 1.424\n",
      "Su parte entera es 1.0 y su parte decimal es 0.42399999999999993\n"
     ]
    }
   ],
   "source": [
    "num1 = float(input(\"Ingrese un número real: \"))\n",
    "parte_decimal, parte_entera = math.modf(num1)\n",
    "print(\"Su parte entera es {} y su parte decimal es {}\".format(parte_entera, parte_decimal))"
   ]
  },
  {
   "cell_type": "markdown",
   "metadata": {},
   "source": [
    "### Ejercicio 3\n",
    "Realizar un programa que sume los valores máximo y mínimo de un grupo de datos, y que su\n",
    "salida sea un valor tipo str"
   ]
  },
  {
   "cell_type": "code",
   "execution_count": 4,
   "metadata": {},
   "outputs": [],
   "source": [
    "def SumaMaximoMinimo (elemento1:int, elemento2:int, elemento3:int, elemento4:int, elemento5:int):\n",
    "    maximo = max(elemento1,elemento2, elemento3,elemento4,elemento5)\n",
    "    minimo = min(elemento1,elemento2, elemento3,elemento4,elemento5)\n",
    "    return maximo + minimo"
   ]
  },
  {
   "cell_type": "code",
   "execution_count": 5,
   "metadata": {},
   "outputs": [
    {
     "data": {
      "text/plain": [
       "8"
      ]
     },
     "execution_count": 5,
     "metadata": {},
     "output_type": "execute_result"
    }
   ],
   "source": [
    "SumaMaximoMinimo(4,5,7,1,6)"
   ]
  },
  {
   "cell_type": "markdown",
   "metadata": {},
   "source": [
    "### Ejercicio 4\n",
    "Realizar un programa que imprima hola mundo, como resultado de asignar a una variable la\n",
    "palabra “Hola” y a otra variable la palabra “mundo”. "
   ]
  },
  {
   "cell_type": "code",
   "execution_count": 6,
   "metadata": {},
   "outputs": [
    {
     "name": "stdout",
     "output_type": "stream",
     "text": [
      "Hola mundo.\n"
     ]
    }
   ],
   "source": [
    "H = \"Hola \"\n",
    "M = \"mundo.\"\n",
    "print (H + M)"
   ]
  },
  {
   "cell_type": "markdown",
   "metadata": {},
   "source": [
    "### Ejercicio 5\n",
    "Realizar un programa que me sume solamente los decimales de dos números."
   ]
  },
  {
   "cell_type": "code",
   "execution_count": 8,
   "metadata": {},
   "outputs": [],
   "source": [
    "def SumaDecimales (numero1:float, numero2:float):\n",
    "    parte_decimal1, parte_entera1 = math.modf(numero1)\n",
    "    parte_decimal2, parte_entera2 = math.modf(numero2)\n",
    "    return \"La suma de la parte decimal de {} y {} es {}\".format(numero1,numero2,parte_decimal1 + parte_decimal2)"
   ]
  },
  {
   "cell_type": "code",
   "execution_count": 9,
   "metadata": {},
   "outputs": [
    {
     "name": "stdout",
     "output_type": "stream",
     "text": [
      "La suma de la parte decimal de 4.5 y 6.5 es 1.0\n"
     ]
    }
   ],
   "source": [
    "print(SumaDecimales(4.5,6.5))"
   ]
  },
  {
   "cell_type": "markdown",
   "metadata": {},
   "source": [
    "### Ejercicio 6\n",
    "Construye un programa que pregunte al usuario el radio de una circunferencia (r) y le muestre en pantalla un mensaje así: “Para una circunferencia con radio r, el perímetro es p y el área es a”. Las fórmulas para el cálculo del perímetro y el área de una circunferencia se presentan a continuación:\n",
    "\n",
    "Perímetro $\\rightarrow 2 \\pi r$ \n",
    "\n",
    "Área $\\rightarrow  \\pi r^2$\n",
    "\n",
    "El programa debe definir una función para calcular el área, otra para calcular el perímetro y hacer uso de estas dos funciones.\n"
   ]
  },
  {
   "cell_type": "code",
   "execution_count": 16,
   "metadata": {},
   "outputs": [],
   "source": [
    "def PerimetroArea ():\n",
    "    radio = float(input(\"Ingrese el radio de la circunferencia\"))\n",
    "    perimetro = 2 * math.pi * radio\n",
    "    area = math.pi * (radio ** 2)\n",
    "    return \"Para una circubferencia con radio {}, el perímetro es {} y el área es {}\".format(radio,perimetro,area)"
   ]
  },
  {
   "cell_type": "code",
   "execution_count": 17,
   "metadata": {},
   "outputs": [
    {
     "name": "stdout",
     "output_type": "stream",
     "text": [
      "Ingrese el radio de la circunferencia1\n",
      "Para una circubferencia con radio 1.0, el perímetro es 6.283185307179586 y el área es 3.141592653589793\n"
     ]
    }
   ],
   "source": [
    "print(PerimetroArea())"
   ]
  },
  {
   "cell_type": "markdown",
   "metadata": {},
   "source": [
    "### Ejercicio 7\n",
    "Construye un programa que pregunte al usuario dos números y le muestre en pantalla un mensaje con el resultado de la suma, resta, multiplicación y división de dichos números. El programa debe definir e invocar funciones separadas para la suma, resta, multiplicación y división"
   ]
  },
  {
   "cell_type": "code",
   "execution_count": 18,
   "metadata": {},
   "outputs": [],
   "source": [
    "def suma (numero1, numero2):\n",
    "    return numero1 + numero2\n",
    "\n",
    "def resta (numero1, numero2):\n",
    "    return numero1 - numero2\n",
    "\n",
    "def multiplicacion (numero1,numero2):\n",
    "    return numero1 * numero2\n",
    "\n",
    "def division (numero1,numero2):\n",
    "    return numero1 / numero2\n",
    "\n",
    "def SRMD (numero1,numero2):\n",
    "    S = suma (numero1, numero2)\n",
    "    R = resta (numero1, numero2)\n",
    "    M = multiplicacion (numero1,numero2)\n",
    "    D = division (numero1,numero2)\n",
    "    return \"Con los números {} y {}, se tiene: suma {}, resta {}, multiplicación {}, división {}\".format(numero1, numero2, S, R, M , D)"
   ]
  },
  {
   "cell_type": "code",
   "execution_count": 19,
   "metadata": {},
   "outputs": [
    {
     "name": "stdout",
     "output_type": "stream",
     "text": [
      "Con los números 1 y 2, se tiene: suma 3, resta -1, multiplicación 2, división 0.5\n"
     ]
    }
   ],
   "source": [
    "print(SRMD(1,2))"
   ]
  },
  {
   "cell_type": "markdown",
   "metadata": {},
   "source": [
    "### Ejercicio 8\n",
    "Construye un programa que pregunte al usuario las longitudes de los tres lados de un triángulo y arroje un mensaje  informando el área del triángulo\n",
    "\n",
    "Se usa la formula de Heron $A = \\sqrt{s(s-a)(s-b)(s-c)}$, donde $s$ es el semi-perimetro y $a$,$b$,$c$, son sus lados "
   ]
  },
  {
   "cell_type": "code",
   "execution_count": 28,
   "metadata": {},
   "outputs": [],
   "source": [
    "def AreaTriangulo ():\n",
    "    print (\"Ingrese los 3 lados del triángulo\")\n",
    "    lado1 = float(input(\"Ingrese el lado 1 del triangulo \"))\n",
    "    lado2 = float(input(\"Ingrese el lado 2 del triangulo \"))\n",
    "    lado3 = float(input(\"Ingrese el lado 3 del triangulo \"))\n",
    "    semiPerimetro = (lado1 + lado2 + lado3) / 2\n",
    "    area = round((semiPerimetro * (semiPerimetro - lado1)* (semiPerimetro - lado2) * (semiPerimetro - lado3)) ** (1/2),2)\n",
    "    return \"El área del triángulo de lados {}, {},{} es {}\".format(lado1,lado2,lado3,area)"
   ]
  },
  {
   "cell_type": "code",
   "execution_count": 29,
   "metadata": {},
   "outputs": [
    {
     "name": "stdout",
     "output_type": "stream",
     "text": [
      "Ingrese los 3 lados del triángulo\n",
      "Ingrese el lado 1 del triangulo 10\n",
      "Ingrese el lado 2 del triangulo 12\n",
      "Ingrese el lado 3 del triangulo 20\n",
      "El área del triángulo de lados 10.0, 12.0,20.0 es 45.6\n"
     ]
    }
   ],
   "source": [
    "print(AreaTriangulo())"
   ]
  },
  {
   "cell_type": "code",
   "execution_count": 35,
   "metadata": {},
   "outputs": [
    {
     "data": {
      "text/plain": [
       "2.4"
      ]
     },
     "execution_count": 35,
     "metadata": {},
     "output_type": "execute_result"
    }
   ],
   "source": []
  },
  {
   "cell_type": "code",
   "execution_count": null,
   "metadata": {},
   "outputs": [],
   "source": []
  }
 ],
 "metadata": {
  "kernelspec": {
   "display_name": "Python 3",
   "language": "python",
   "name": "python3"
  },
  "language_info": {
   "codemirror_mode": {
    "name": "ipython",
    "version": 3
   },
   "file_extension": ".py",
   "mimetype": "text/x-python",
   "name": "python",
   "nbconvert_exporter": "python",
   "pygments_lexer": "ipython3",
   "version": "3.7.3"
  }
 },
 "nbformat": 4,
 "nbformat_minor": 2
}
