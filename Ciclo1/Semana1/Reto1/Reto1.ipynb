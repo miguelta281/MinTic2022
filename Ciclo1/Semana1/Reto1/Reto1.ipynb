{
 "cells": [
  {
   "cell_type": "markdown",
   "metadata": {},
   "source": [
    "Un profesor debe calcular el promedio de la nota de quices de sus estudiantes para subirla a la plataforma de notas finales. Sin embargo, el profesor acordó con sus estudiantes que los ayudará eliminando la peor de las cinco notas antes de calcular el promedio que finalmente reportará. adicionalmente, el profesor se ha dado cuenta qué las notas registradas en su planilla se encuentran en una escala de números enteros de 0 a 100 pero la plataforma está diseñada para recibir el promedio unícamente en la escala estandar de la universidad: de 0 a 5 redondeando a dos decimales.\n",
    "\n",
    "Escriba una función qué reciba parámetros: una cadena con el coódigo alfanumérico del estudiante y cinco numetos enteros (nota1, nota2, nota3, nota4, nota5) que representan las notas de los quices del semestre y retorne una cadena de caracteres que le proporciona al profesor la información que desea obtener. La cadena debe tener la siguiente estructura. \"El promedio ajustado del estudiante [código] es: [promedio]\" dónde, el promedio reportado debe cumplir con las especificaciones mencionadas anteriormente (redondeando a dos decimales, en escala de 0 a 5 y eliminado la peor nota de las cinco notas  del estudiante)."
   ]
  },
  {
   "cell_type": "code",
   "execution_count": 12,
   "metadata": {},
   "outputs": [],
   "source": [
    "def nota_quices (codigo,nota1,nota2,nota3,nota4,nota5):\n",
    "    menor_nota= min(nota1,nota2,nota3,nota4,nota5)\n",
    "    nota = (nota1 + nota2 + nota3 + nota4 + nota5) - menor_nota\n",
    "    prom = round(((nota / 4)/20),2)\n",
    "    return \"El promedio ajustado del estudiante \" + str(codigo) +  \" es: \"+ str(prom)\n",
    "\n"
   ]
  },
  {
   "cell_type": "code",
   "execution_count": 13,
   "metadata": {},
   "outputs": [
    {
     "name": "stdout",
     "output_type": "stream",
     "text": [
      "El promedio ajustado del estudianteAA0010276es:3.14\n"
     ]
    }
   ],
   "source": [
    "print(promedio (\"AA0010276\",19,90,38,55,68))"
   ]
  },
  {
   "cell_type": "code",
   "execution_count": null,
   "metadata": {},
   "outputs": [],
   "source": []
  }
 ],
 "metadata": {
  "kernelspec": {
   "display_name": "Python 3",
   "language": "python",
   "name": "python3"
  },
  "language_info": {
   "codemirror_mode": {
    "name": "ipython",
    "version": 3
   },
   "file_extension": ".py",
   "mimetype": "text/x-python",
   "name": "python",
   "nbconvert_exporter": "python",
   "pygments_lexer": "ipython3",
   "version": "3.7.3"
  }
 },
 "nbformat": 4,
 "nbformat_minor": 2
}
