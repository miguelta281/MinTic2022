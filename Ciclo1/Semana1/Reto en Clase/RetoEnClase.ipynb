{
 "cells": [
  {
   "cell_type": "code",
   "execution_count": 1,
   "metadata": {},
   "outputs": [],
   "source": [
    "#Reto clase hora de inicio de una reaccion quimica segun la hora de finalización y el tiempo de demora \n",
    "def inicio_reaccion(codigo: str, hora_terminacion: int, minuto_terminacion: int,duracion_horas:int, duracion_minutos:int, duracion_segundos:int) -> str:\n",
    "    #convertimos la hora a segundos para operar\n",
    "    hora_finalizacionSeg =hora_terminacion*3600+minuto_terminacion*60\n",
    "    hora_duracion_seg=  duracion_horas*3600+duracion_minutos*60+duracion_segundos\n",
    "    hora_inicio=hora_finalizacionSeg-hora_duracion_seg\n",
    "    horas=hora_inicio//3600\n",
    "    minutos=(hora_inicio%3600)//60\n",
    "    segundos=hora_inicio-horas*3600-minutos*60\n",
    "    horas=str(horas)\n",
    "    minutos=str(minutos).zfill(2) #Indica cual debe ser la longitud, completa con un cero al inicio\n",
    "    segundos=str(segundos).zfill(2)\n",
    "    \n",
    "    return  (\"La reacción {} debe iniciarse a las {} horas, {} minutos con {} segundos para que esté lista en en el momento requerido\").format(codigo,horas,minutos,segundos)"
   ]
  },
  {
   "cell_type": "code",
   "execution_count": 2,
   "metadata": {},
   "outputs": [
    {
     "name": "stdout",
     "output_type": "stream",
     "text": [
      "La reacción HH01 debe iniciarse a las 12 horas, 18 minutos con 37 segundos para que esté lista en en el momento requerido\n"
     ]
    }
   ],
   "source": [
    "print(inicio_reaccion(\"HH01\",16,30,4,11,23))"
   ]
  },
  {
   "cell_type": "code",
   "execution_count": null,
   "metadata": {},
   "outputs": [],
   "source": []
  }
 ],
 "metadata": {
  "kernelspec": {
   "display_name": "Python 3",
   "language": "python",
   "name": "python3"
  },
  "language_info": {
   "codemirror_mode": {
    "name": "ipython",
    "version": 3
   },
   "file_extension": ".py",
   "mimetype": "text/x-python",
   "name": "python",
   "nbconvert_exporter": "python",
   "pygments_lexer": "ipython3",
   "version": "3.7.3"
  }
 },
 "nbformat": 4,
 "nbformat_minor": 2
}
